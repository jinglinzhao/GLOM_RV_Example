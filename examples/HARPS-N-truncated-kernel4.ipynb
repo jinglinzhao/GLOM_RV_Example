{
 "cells": [
  {
   "cell_type": "code",
   "execution_count": 1,
   "id": "appropriate-aside",
   "metadata": {},
   "outputs": [
    {
     "name": "stdout",
     "output_type": "stream",
     "text": [
      "\u001b[?25l\u001b[2K\u001b[?25h"
     ]
    },
    {
     "name": "stderr",
     "output_type": "stream",
     "text": [
      "\u001b[32m\u001b[1m   Updating\u001b[22m\u001b[39m git-repo `/Users/az/Documents/GitHub/GLOM_RV_Example`\n",
      "\u001b[32m\u001b[1m   Updating\u001b[22m\u001b[39m registry at `~/.julia/registries/General`\n",
      "\u001b[32m\u001b[1m  Resolving\u001b[22m\u001b[39m package versions...\n",
      "\u001b[32m\u001b[1mNo Changes\u001b[22m\u001b[39m to `~/Documents/GitHub/GLOM_RV_Example/examples/Project.toml`\n",
      "\u001b[32m\u001b[1mNo Changes\u001b[22m\u001b[39m to `~/Documents/GitHub/GLOM_RV_Example/examples/Manifest.toml`\n"
     ]
    }
   ],
   "source": [
    "using Pkg\n",
    "Pkg.add(;path=\"/Users/az/Documents/GitHub/GLOM_RV_Example\")"
   ]
  },
  {
   "cell_type": "code",
   "execution_count": 2,
   "id": "passing-sherman",
   "metadata": {},
   "outputs": [
    {
     "name": "stderr",
     "output_type": "stream",
     "text": [
      "\u001b[32m\u001b[1m Activating\u001b[22m\u001b[39m environment at `~/Documents/GitHub/GLOM_RV_Example/examples/examples/Project.toml`\n"
     ]
    }
   ],
   "source": [
    "\n",
    "Pkg.activate(\"examples\")\n",
    "Pkg.instantiate()"
   ]
  },
  {
   "cell_type": "code",
   "execution_count": 3,
   "id": "welcome-cooler",
   "metadata": {},
   "outputs": [
    {
     "name": "stderr",
     "output_type": "stream",
     "text": [
      "\u001b[32m\u001b[1m  Resolving\u001b[22m\u001b[39m package versions...\n",
      "\u001b[32m\u001b[1mNo Changes\u001b[22m\u001b[39m to `~/Documents/GitHub/GLOM_RV_Example/examples/examples/Project.toml`\n",
      "\u001b[32m\u001b[1mNo Changes\u001b[22m\u001b[39m to `~/Documents/GitHub/GLOM_RV_Example/examples/examples/Manifest.toml`\n"
     ]
    }
   ],
   "source": [
    "import Pkg; Pkg.add(\"CSV\")\n",
    "\n",
    "using Statistics\n",
    "\n",
    "# for det()\n",
    "using LinearAlgebra\n",
    "\n",
    "# for importing the data from CSV\n",
    "using DataFrames\n",
    "using CSV\n"
   ]
  },
  {
   "cell_type": "code",
   "execution_count": 4,
   "id": "technical-bosnia",
   "metadata": {},
   "outputs": [
    {
     "data": {
      "text/plain": [
       "GPLinearODEMaker"
      ]
     },
     "execution_count": 4,
     "metadata": {},
     "output_type": "execute_result"
    }
   ],
   "source": [
    "# For GLOM\n",
    "# import Pkg; Pkg.add(\"GPLinearODEMaker\")\n",
    "import GPLinearODEMaker; GLOM = GPLinearODEMaker"
   ]
  },
  {
   "cell_type": "code",
   "execution_count": 5,
   "id": "retained-champion",
   "metadata": {},
   "outputs": [
    {
     "data": {
      "text/plain": [
       "GLOM_RV_Example"
      ]
     },
     "execution_count": 5,
     "metadata": {},
     "output_type": "execute_result"
    }
   ],
   "source": [
    "# For this module\n",
    "using GLOM_RV_Example; GLOM_RV = GLOM_RV_Example"
   ]
  },
  {
   "cell_type": "code",
   "execution_count": 6,
   "id": "cross-colombia",
   "metadata": {},
   "outputs": [
    {
     "name": "stderr",
     "output_type": "stream",
     "text": [
      "\u001b[32m\u001b[1m  Resolving\u001b[22m\u001b[39m package versions...\n",
      "\u001b[32m\u001b[1mNo Changes\u001b[22m\u001b[39m to `~/Documents/GitHub/GLOM_RV_Example/examples/examples/Project.toml`\n",
      "\u001b[32m\u001b[1mNo Changes\u001b[22m\u001b[39m to `~/Documents/GitHub/GLOM_RV_Example/examples/examples/Manifest.toml`\n"
     ]
    }
   ],
   "source": [
    "# For units in orbit fitting functions\n",
    "import Pkg; Pkg.add(\"Unitful\")\n",
    "using UnitfulAstro, Unitful"
   ]
  },
  {
   "cell_type": "code",
   "execution_count": 7,
   "id": "imposed-romance",
   "metadata": {},
   "outputs": [
    {
     "data": {
      "text/plain": [
       "(GPLinearODEMaker.qp_kernel, 3)"
      ]
     },
     "execution_count": 7,
     "metadata": {},
     "output_type": "execute_result"
    }
   ],
   "source": [
    "\n",
    "## Problem setup\n",
    "\n",
    "# CHANGE: choose a kernel, I suggest 3 for Matern 5/2 or 4 for Quasi-periodic\n",
    "# kernel\n",
    "kernel_choice = 4\n",
    "kernel_names = [\"pp\", \"se\", \"m52\", \"qp\", \"m52_m52\", \"se_se\"]\n",
    "kernel_name = kernel_names[kernel_choice]\n",
    "kernel_function, num_kernel_hyperparameters = GLOM.include_kernel(kernel_name)"
   ]
  },
  {
   "cell_type": "code",
   "execution_count": 8,
   "id": "iraqi-elder",
   "metadata": {},
   "outputs": [
    {
     "data": {
      "text/plain": [
       "100-element Array{Float64,1}:\n",
       " -94.0826835292828\n",
       " -93.08372810534638\n",
       " -92.08427081042464\n",
       " -91.08734937909321\n",
       " -90.08436831641302\n",
       " -89.08671614898776\n",
       " -88.08030606357352\n",
       " -87.1391856148548\n",
       " -85.07661038349761\n",
       " -75.07995068086893\n",
       " -74.09923327293654\n",
       " -73.1019451257016\n",
       " -72.05461601664138\n",
       "   ⋮\n",
       "  86.9183723042297\n",
       "  90.89301300501393\n",
       "  91.89041234012984\n",
       "  96.91769183589349\n",
       " 100.89068160001625\n",
       " 101.88447341258143\n",
       " 102.91082533841836\n",
       " 103.8837681139994\n",
       " 105.88832158272999\n",
       " 106.91145564196631\n",
       " 107.88312550192495\n",
       " 108.88539447698713"
      ]
     },
     "execution_count": 8,
     "metadata": {},
     "output_type": "execute_result"
    }
   ],
   "source": [
    "# CHANGE: the stars rotation rate which is used as the first guess for some GLOM\n",
    "# hyperparameters and starting point for priors\n",
    "star_rot_rate = 27.  # days for solar rotation\n",
    "last = 100\n",
    "\n",
    "# CHANGE: observation times go here\n",
    "using DelimitedFiles\n",
    "obs_xs = collect(Iterators.flatten(readdlm(\"./data/bjd_daily.txt\")))[1:last]\n",
    "# taking out the mean observation times makes the optimization easier for models\n",
    "# with periodic parameters\n",
    "GLOM_RV.remove_mean!(obs_xs)"
   ]
  },
  {
   "cell_type": "code",
   "execution_count": 9,
   "id": "starting-producer",
   "metadata": {},
   "outputs": [
    {
     "data": {
      "text/plain": [
       "100-element Array{Float64,1}:\n",
       " 0.03036812271298431\n",
       " 0.028174782382301478\n",
       " 0.02938168070678178\n",
       " 0.030733648918260983\n",
       " 0.030273630749804166\n",
       " 0.02978809045216476\n",
       " 0.03479668670704809\n",
       " 0.05661399795951553\n",
       " 0.049404085779396215\n",
       " 0.02941258553740282\n",
       " 0.07400877379839974\n",
       " 0.05641940799521519\n",
       " 0.05493576014838747\n",
       " ⋮\n",
       " 0.14691235315354487\n",
       " 0.05307828537878864\n",
       " 0.042584554070920794\n",
       " 0.06901435317592487\n",
       " 0.05777880997525311\n",
       " 0.05303811006842724\n",
       " 0.05770075708886935\n",
       " 0.04175327852466612\n",
       " 0.04090507117229551\n",
       " 0.05895118403438244\n",
       " 0.040303889806123705\n",
       " 0.03944750090751184"
      ]
     },
     "execution_count": 9,
     "metadata": {},
     "output_type": "execute_result"
    }
   ],
   "source": [
    "# CHANGE: rvs and their errors go here\n",
    "obs_rvs = collect(Iterators.flatten(readdlm(\"./data/rv_daily.txt\")))[1:last]\n",
    "# inject_ks = GLOM_RV.kep_signal(; K=50u\"m/s\", P=sqrt(2)*5u\"d\", M0=rand()*2*π, ω_or_k=rand()*2*π, e_or_h=0.1)\n",
    "# obs_rvs[:] .+= ustrip.(inject_ks.(obs_xs.*u\"d\"))\n",
    "obs_rvs_err = collect(Iterators.flatten(readdlm(\"./data/erv_daily.txt\")))[1:last]"
   ]
  },
  {
   "cell_type": "code",
   "execution_count": 10,
   "id": "addressed-cologne",
   "metadata": {},
   "outputs": [
    {
     "data": {
      "text/plain": [
       "100-element Array{Float64,1}:\n",
       "  5.756971312004282\n",
       "  5.3652157914954595\n",
       "  5.654645807928711\n",
       "  5.925730235674198\n",
       "  5.825554595635701\n",
       "  5.887501707941508\n",
       "  6.627535360942655\n",
       " 10.619782436423465\n",
       "  9.48548099736605\n",
       "  5.536845159896076\n",
       " 13.636395158606499\n",
       " 10.394849664742399\n",
       " 10.086845919158254\n",
       "  ⋮\n",
       " 26.693044848802298\n",
       "  9.892413073405644\n",
       "  7.813029822015975\n",
       " 12.731825673176225\n",
       " 10.461033634526089\n",
       "  9.842709673431468\n",
       " 10.667208707539606\n",
       "  7.744231382374497\n",
       "  7.552010979571698\n",
       " 10.58257459843627\n",
       "  7.519403961091692\n",
       "  7.233208313151117"
      ]
     },
     "execution_count": 10,
     "metadata": {},
     "output_type": "execute_result"
    }
   ],
   "source": [
    "# CHANGE: activity indicators and thier errors go here\n",
    "# you can actually have as many as you want, but obviously it will take longer\n",
    "# to fit\n",
    "obs_indicator1 = collect(Iterators.flatten(readdlm(\"./data/C1.txt\")))[1:last]\n",
    "obs_indicator1_err = collect(Iterators.flatten(readdlm(\"./data/err_C1.txt\")))[1:last]\n",
    "obs_indicator2 = collect(Iterators.flatten(readdlm(\"./data/C2.txt\")))[1:last]\n",
    "obs_indicator2_err = collect(Iterators.flatten(readdlm(\"./data/err_C2.txt\")))[1:last]\n"
   ]
  },
  {
   "cell_type": "code",
   "execution_count": 11,
   "id": "internal-learning",
   "metadata": {},
   "outputs": [
    {
     "data": {
      "text/plain": [
       "100-element Array{Float64,1}:\n",
       "  11.356363769515074\n",
       "  18.369840882498668\n",
       "  44.91653127212058\n",
       "  32.12358939834826\n",
       "  36.39076877769131\n",
       "  26.73560618205582\n",
       "  18.2190949910584\n",
       "  13.588531603166306\n",
       "  28.442060247312018\n",
       "   8.399795401432204\n",
       "  13.826736907087298\n",
       "  16.945512031813177\n",
       "  19.422727582445024\n",
       "   ⋮\n",
       " -26.205247165443875\n",
       "   0.5709376372474573\n",
       "  -6.09410561647665\n",
       "  24.37227136655505\n",
       "  21.860624281480288\n",
       "  -1.5398256067648468\n",
       "  12.081312289070784\n",
       "  14.362266371876192\n",
       "   9.31883822574854\n",
       "   3.3698728914795772\n",
       "  -5.638480496250157\n",
       " -10.254162252573682"
      ]
     },
     "execution_count": 11,
     "metadata": {},
     "output_type": "execute_result"
    }
   ],
   "source": [
    "# removing means as the GP model assumes zero mean\n",
    "GLOM_RV.remove_mean!(obs_rvs)\n",
    "GLOM_RV.remove_mean!(obs_indicator1)\n",
    "GLOM_RV.remove_mean!(obs_indicator2)"
   ]
  },
  {
   "cell_type": "code",
   "execution_count": 12,
   "id": "artistic-cornell",
   "metadata": {},
   "outputs": [
    {
     "data": {
      "text/plain": [
       "300-element Array{Float64,1}:\n",
       "  0.03036812271298431\n",
       "  7.86437518965105\n",
       "  5.756971312004282\n",
       "  0.028174782382301478\n",
       "  8.077654743316922\n",
       "  5.3652157914954595\n",
       "  0.02938168070678178\n",
       "  7.700195206719579\n",
       "  5.654645807928711\n",
       "  0.030733648918260983\n",
       "  7.8474301601074075\n",
       "  5.925730235674198\n",
       "  0.030273630749804166\n",
       "  ⋮\n",
       "  0.04090507117229551\n",
       " 11.675368595519458\n",
       "  7.552010979571698\n",
       "  0.05895118403438244\n",
       " 18.109730207587884\n",
       " 10.58257459843627\n",
       "  0.040303889806123705\n",
       " 12.077619273006398\n",
       "  7.519403961091692\n",
       "  0.03944750090751184\n",
       " 11.219388489133108\n",
       "  7.233208313151117"
      ]
     },
     "execution_count": 12,
     "metadata": {},
     "output_type": "execute_result"
    }
   ],
   "source": [
    "# CHANGE: change these lines if you add more than 2 indicators\n",
    "# this takes the data and riffles it together so it takes the form\n",
    "# [rv_1, ind1_1, ind2_1, rv_2, ind1_2, ind2_2, ...]\n",
    "n_out = 3  # number of indicators + 1\n",
    "obs_ys = collect(Iterators.flatten(zip(obs_rvs, obs_indicator1, obs_indicator2)))\n",
    "obs_noise = collect(Iterators.flatten(zip(obs_rvs_err, obs_indicator1_err, obs_indicator2_err)))\n"
   ]
  },
  {
   "cell_type": "code",
   "execution_count": 13,
   "id": "varying-renewal",
   "metadata": {},
   "outputs": [
    {
     "data": {
      "text/plain": [
       "3"
      ]
     },
     "execution_count": 13,
     "metadata": {},
     "output_type": "execute_result"
    }
   ],
   "source": [
    "# How many differention orders we want in the GLOM model\n",
    "n_dif = 2 + 1"
   ]
  },
  {
   "cell_type": "code",
   "execution_count": 14,
   "id": "brazilian-factor",
   "metadata": {},
   "outputs": [],
   "source": [
    "# CHANGE: consider changing a0 (the GLOM coefficients that are used, see\n",
    "# commented lines below)\n",
    "# If all a's active:\n",
    "# problem_definition = GLOM.GLO(kernel_function, num_kernel_hyperparameters, n_dif, n_out, obs_xs, copy(obs_ys); noise=copy(obs_noise), a0=[[1. 1 1];[1 1 1];[1 1 1]])\n",
    "problem_definition = GLOM.GLO(kernel_function, num_kernel_hyperparameters, n_dif, n_out, obs_xs, copy(obs_ys); noise=copy(obs_noise), a0=[[1. 1 0];[1 0 1];[1 0 1]])\n",
    "\n",
    "# Makes the std of each output equal to 1, improves fitting stability\n",
    "# the normalizations are stored in problem_definition.normals\n",
    "GLOM.normalize_problem_definition!(problem_definition)"
   ]
  },
  {
   "cell_type": "code",
   "execution_count": 15,
   "id": "rough-condition",
   "metadata": {},
   "outputs": [
    {
     "data": {
      "text/plain": [
       "12-element Array{Float64,1}:\n",
       "  1.0\n",
       "  1.0\n",
       "  1.0\n",
       "  1.0\n",
       "  0.0\n",
       "  0.0\n",
       "  0.0\n",
       "  1.0\n",
       "  1.0\n",
       " 27.0\n",
       " 54.0\n",
       "  1.0"
      ]
     },
     "execution_count": 15,
     "metadata": {},
     "output_type": "execute_result"
    }
   ],
   "source": [
    "# CHANGE: Setting initial fit values\n",
    "initial_total_hyperparameters = collect(Iterators.flatten(problem_definition.a0))\n",
    "initial_hypers = [[star_rot_rate], [star_rot_rate], [star_rot_rate], [star_rot_rate, 2 * star_rot_rate, 1], [star_rot_rate, 2 * star_rot_rate, 1], [star_rot_rate, 2 * star_rot_rate, 1]]\n",
    "append!(initial_total_hyperparameters, initial_hypers[kernel_choice])"
   ]
  },
  {
   "cell_type": "code",
   "execution_count": 16,
   "id": "bizarre-amsterdam",
   "metadata": {},
   "outputs": [
    {
     "data": {
      "text/plain": [
       "add_kick! (generic function with 1 method)"
      ]
     },
     "execution_count": 16,
     "metadata": {},
     "output_type": "execute_result"
    }
   ],
   "source": [
    "## Fitting GLOM Model\n",
    "\n",
    "# CHANGE: Setting kernel hyperparameter priors and kick function\n",
    "# kick functions help avoid saddle points\n",
    "tighten_lengthscale_priors = 3\n",
    "if kernel_name in [\"pp\", \"se\", \"m52\"]\n",
    "    kernel_hyper_priors(hps::Vector{<:Real}, d::Integer) =\n",
    "        GLOM_RV.kernel_hyper_priors_1λ(hps, d, star_rot_rate, star_rot_rate / 2 / tighten_lengthscale_priors)\n",
    "    add_kick!(hps::Vector{<:Real}) = GLOM_RV.add_kick_1λ!(hps)\n",
    "elseif kernel_name == \"qp\"\n",
    "    kernel_hyper_priors(hps::Vector{<:Real}, d::Integer) =\n",
    "        GLOM_RV.kernel_hyper_priors_qp(hps, d, [star_rot_rate, 2 * star_rot_rate, 1], [star_rot_rate / 2, star_rot_rate / 2, 0.4] ./ tighten_lengthscale_priors)\n",
    "    add_kick!(hps::Vector{<:Real}) = GLOM_RV.add_kick_qp!(hps)\n",
    "elseif kernel_name in [\"se_se\", \"m52_m52\"]\n",
    "    kernel_hyper_priors(hps::Vector{<:Real}, d::Integer) =\n",
    "        GLOM_RV.kernel_hyper_priors_2λ(hps, d, [star_rot_rate, 2 * star_rot_rate, 1], [star_rot_rate / 2, star_rot_rate / 2, 1] ./ tighten_lengthscale_priors)\n",
    "    add_kick!(hps::Vector{<:Real}) = GLOM_RV.add_kick_2λ!(hps)\n",
    "else\n",
    "    # kernel_hyper_priors(hps::Vector{<:Real}, d::Integer) = custom function\n",
    "end\n",
    "\n",
    "\n"
   ]
  },
  {
   "cell_type": "code",
   "execution_count": 17,
   "id": "unlikely-alignment",
   "metadata": {},
   "outputs": [
    {
     "name": "stdout",
     "output_type": "stream",
     "text": [
      "gridsearching over hp7\n",
      "starting at hp = 27.0 -> 10916.249644151492\n",
      "searching from 20.25 to 33.75\n",
      "ending at hp   = 27.0 -> 10916.249644151492\n",
      "[1.0, 1.0, 1.0, 1.0, 1.0, 1.0, 27.0, 54.0, 1.0]\n",
      "\n",
      "[1.0600063708890808, 0.41177057200952627, 0.8657580034674567, 1.3830699880440993, 0.9670237537771093, 1.0042230929522638, 27.066116235728764, 53.97467352756599, 1.6924656233399067]\n",
      "\n",
      "Iteration:              1\n",
      "Time so far:            11.30447506904602 s\n",
      "Unnormalized posterior: 5571.477268135242\n",
      "Gradient norm:          4091.76671347133\n",
      "\n",
      "[0.333625936193072, -0.7866636706661311, 0.3088864155373199, 2.3491732961292207, 0.3298805955898343, 0.9776382836810181, 27.66248195460705, 53.823798338124575, 2.1042783397022324]\n",
      "\n",
      "Iteration:              2\n",
      "Time so far:            22.52218198776245 s\n",
      "Unnormalized posterior: 2630.8529490254914\n",
      "Gradient norm:          3067.420675603089\n",
      "\n",
      "[0.2814878838135825, -1.52934045894607, 0.9376153129348036, 2.3874306495512543, -1.7728463960556737, 0.9496501292487102, 25.41423856838472, 54.25065639977226, 4.426055891389846]\n",
      "\n",
      "Iteration:              3\n",
      "Time so far:            32.19465613365173 s\n",
      "Unnormalized posterior: 1526.5186892329477\n",
      "Gradient norm:          471.1470319656056\n",
      "\n",
      "[0.09938148336022615, -1.8114886936812893, 0.691933795350091, 2.556827108119994, -2.04263731993828, 0.9553063055349571, 25.357597771847814, 54.20759692151193, 5.2747570363676965]\n",
      "\n",
      "Iteration:              4\n",
      "Time so far:            41.76512813568115 s\n",
      "Unnormalized posterior: 1202.2841071882988\n",
      "Gradient norm:          267.1553876666124\n",
      "\n",
      "[-0.20020639965773404, -2.2392660296408446, -0.5524543099880459, 2.6080897222168247, -1.6804717768157316, 2.0680423303426556, 24.61758795038699, 54.16445474452161, 5.7820078410378395]\n",
      "\n",
      "Iteration:              5\n",
      "Time so far:            43.555129051208496 s\n",
      "Unnormalized posterior: 1202.2841071882988\n",
      "Gradient norm:          267.1553876666124\n",
      "\n",
      "[0.06681792788492535, -1.9055581530662762, 0.3411637178798348, 2.625734516055831, -1.9561319879839192, 1.192393256075536, 25.19725375894675, 54.193936483725636, 5.425463602353303]\n",
      "\n",
      "Iteration:              6\n",
      "Time so far:            53.145310163497925 s\n",
      "Unnormalized posterior: 1034.9277815077412\n",
      "Gradient norm:          195.47053279021128\n",
      "\n",
      "[-0.14829433569186104, -1.8157976878257935, 0.09942470911978346, 2.8969047038481506, -2.0000458163267942, 1.0647978424352504, 25.21962096897665, 54.144387900485235, 5.631713294212179]\n",
      "\n",
      "Iteration:              7\n",
      "Time so far:            63.14412808418274 s\n",
      "Unnormalized posterior: 931.6626164474799\n",
      "Gradient norm:          151.84542322090087\n",
      "\n",
      "[-0.31245722925206804, -1.4352887456292875, -0.5518885664692532, 3.1843564112567266, -1.849947430215694, 0.5703154912288164, 25.339245660892967, 54.077143499414284, 5.820277555306858]\n",
      "\n",
      "Iteration:              8\n",
      "Time so far:            73.57169795036316 s\n",
      "Unnormalized posterior: 830.0626256206368\n",
      "Gradient norm:          44.998329633340475\n",
      "\n",
      "[-0.417501962364713, -0.5606228728519098, -1.1890072482745269, 3.260243599643892, -0.6014555565856143, -0.5252270241593269, 25.31009180155502, 54.01056334930954, 6.039407462662206]\n",
      "\n",
      "Iteration:              9\n",
      "Time so far:            75.46244812011719 s\n",
      "Unnormalized posterior: 830.0626256206368\n",
      "Gradient norm:          44.998329633340475\n",
      "\n",
      "[-0.3171215500891381, -1.2382260306283515, -0.7517599786496535, 3.362385435019788, -1.6383905862829526, 0.27844526115404117, 25.32888932162675, 54.04290756952427, 5.911269945183996]\n",
      "\n",
      "Iteration:              10\n",
      "Time so far:            86.66387510299683 s\n",
      "Unnormalized posterior: 798.6936344342618\n",
      "Gradient norm:          28.25270929633713\n",
      "\n",
      "[-0.4324404622968329, -0.8090092178453308, -1.0286754194273426, 3.472476845895795, -0.9388954544092463, -0.16707007534154117, 25.304716411802836, 53.987029205071686, 6.060226718348204]\n",
      "\n",
      "Iteration:              11\n",
      "Time so far:            98.50633096694946 s\n",
      "Unnormalized posterior: 765.7460442519351\n",
      "Gradient norm:          42.01516406308933\n",
      "\n",
      "[-0.552264416876066, -0.5936193738074889, -0.9816153941572747, 3.180638975650835, -0.7227801445759986, -0.06829336851954325, 25.29741652783715, 53.14114549512929, 6.342769179766421]\n",
      "\n",
      "Iteration:              12\n",
      "Time so far:            110.20493292808533 s\n",
      "Unnormalized posterior: 755.6562327601284\n",
      "Gradient norm:          12.675346839759321\n",
      "\n",
      "[-0.6017054766210624, -0.5760050433058336, -1.0238737401896936, 2.9141719931204255, -0.6729092568997362, -0.10311623270471562, 25.29586870613441, 51.164735165379916, 6.463413167533347]\n",
      "\n",
      "Iteration:              13\n",
      "Time so far:            121.94859099388123 s\n",
      "Unnormalized posterior: 750.7530057753453\n",
      "Gradient norm:          2.748003428480221\n",
      "\n",
      "[-0.5935777368023647, -0.5414136633391702, -0.9861833750466147, 2.5615540604786213, -0.5876228122147429, -0.08903910267105583, 25.293087657047344, 47.182238664700805, 6.5356582423829455]\n",
      "\n",
      "Iteration:              14\n",
      "Time so far:            133.96974515914917 s\n",
      "Unnormalized posterior: 746.5583605158389\n",
      "Gradient norm:          2.059466633530633\n",
      "\n",
      "[-0.5942106297662054, -0.5349630821223824, -0.9860627796266794, 2.475352818785886, -0.5619384408011439, -0.0884593918770615, 25.292920952824037, 45.95839439668147, 6.576367987784429]\n",
      "\n",
      "Iteration:              15\n",
      "Time so far:            144.23704195022583 s\n",
      "Unnormalized posterior: 746.2844666585222\n",
      "Gradient norm:          0.27021390383784194\n",
      "\n",
      "[-0.5944876254066298, -0.5356122145026803, -0.9874156132608399, 2.4695526334984343, -0.5600413296597592, -0.08823744089276336, 25.29311947741993, 45.93478598561349, 6.582462297661484]\n",
      "\n",
      "Iteration:              16\n",
      "Time so far:            156.02144193649292 s\n",
      "Unnormalized posterior: 746.2837611374985\n",
      "Gradient norm:          0.007898345355450642\n",
      "\n",
      "[-0.5944904369357757, -0.5356196276683625, -0.9874265473936238, 2.469519904145497, -0.5600321062369216, -0.08823700223611936, 25.29311926020973, 45.93456991339085, 6.582495576839502]\n",
      "\n",
      "Iteration:              17\n",
      "Time so far:            166.72998309135437 s\n",
      "Unnormalized posterior: 746.2837611031016\n",
      "Gradient norm:          2.3425344664040892e-7\n",
      "\n",
      "gridsearching over hp7\n",
      "starting at hp = 25.29311926020973 -> 746.2837611031016\n",
      "searching from 18.969839445157298 to 31.61639907526216\n",
      "ending at hp   = 25.29311926020973 -> 746.2837611031016\n",
      "1.767003698266314e18\n"
     ]
    },
    {
     "data": {
      "text/plain": [
       "GPLinearODEMaker.nlogL_matrix_workspace{Float64}([-0.5944904369357757, -0.5356196276683625, -0.9874265473936238, 2.469519904145497, 0.0, 0.0, 0.0, -0.5600321062369216, -0.08823700223611936, 25.29311926020973, 45.93456991339085, 6.582495576839502], Cholesky{Float64,Array{Float64,2}}([4.082049831826167 -0.1401134253612674 … 8.443774612183839e-5 -1.5087804921653467e-5; -0.5719499844325497 2.336936260032747 … -7.42235679172954e-5 -3.0295387435737433e-6; … ; 0.000344679087356431 -0.00018528660905384675 … 1.561284137262279 -0.06822650544238283; -6.158917154306154e-5 -4.9658349122760755e-6 … -0.00796937247974805 0.4510895793390472], 'U', 0), [-0.5944904369357757, -0.5356196276683625, -0.9874265473936238, 2.469519904145497, 0.0, 0.0, 0.0, -0.5600321062369216, -0.08823700223611936, 25.29311926020973, 45.93456991339085, 6.582495576839502], [[0.017357449703071157 -0.1154415344493876 … -0.001229579953298212 -0.006016134320549627; -0.07364027576166782 0.006489897428326595 … -0.0005980381196121092 0.001254771201680391; … ; 0.015669403482217473 0.007491267946098688 … -0.04672450117947178 -0.10949774588247041; -0.027851792485672575 0.01605829255623919 … -0.20718593700168247 -0.9251345782166893], [0.44146913454502457 -0.31341959329206875 … -0.0015699426306378284 -0.008940517380888663; 0.6699433914558958 0.31507861026266654 … -0.011644832958790112 0.021577520225287226; … ; 0.035028302496698714 0.01744698312450562 … 0.41498671865264625 -0.5102009698220887; -0.03679066579391723 0.0075052267345026135 … -0.08795673046432823 -0.09531461046861023], [2.1986532953738824 -1.6821989443580023 … 0.004291736861889931 -0.005374028475392261; 0.33318892644571707 0.23518644475041608 … -0.005354071658504572 -0.002764748479094136; … ; -0.022733699884939947 0.001180161242937702 … 0.3793039903026422 0.10164017660527674; 0.09313778138384976 0.00021191089271656072 … 7.112476779924295 -3.0561937753352106], [1.7826881771365026 0.16425027912100879 … 0.007564274197452625 -0.003577111422943621; 0.04999560789310628 -0.36533395069126723 … 0.014925298234500232 -0.0014217715468366387; … ; 0.02820977175302624 -0.0217862724967031 … -0.20758516620341985 -0.08285883764336213; 0.10510055780953866 0.04477043120354614 … -0.1632505769289417 -0.766939097846109], [0.11127835352958923 1.0906722317308672 … 0.03552817938589091 0.010144822058772459; -1.3398266742108362 -5.738475055647174 … 0.07019817003401525 -0.028299843302790804; … ; 0.10762237444962063 -0.10748824063776229 … -4.9632338345646145 0.3995737060512189; 0.39927397379716945 0.18231557279717478 … -2.2576917858685612 0.4944945781039139], [-0.877474097080419 19.202327128066944 … -0.04251423147389431 0.006125666491856077; 2.604241335658663 -0.8251926286223539 … 0.09978131714323911 0.008371699897612377; … ; 0.042662956393800675 -0.10056148095799602 … -3.088616940338009 -1.6742827535409905; -0.22391229168149182 -0.0642576508120398 … -67.73128310524174 4.805378988015167], [-0.10838738742763715 -3.3682574378054957 … 0.056126103469237645 0.004898501377608653; 6.707139550230668 -0.5287646585873319 … -0.14102980835113954 -0.0020048144364822125; … ; -0.09747053526577333 -0.10441241215285668 … 1.3791905205201584 0.176260590695778; -0.2049386402587024 -0.2158467040236298 … -0.3464736108139959 0.2270379933370848], [-0.004107886036795312 0.0029362926837995635 … -9.516709818197796e-5 -7.824370819694617e-5; 0.002295079922457373 -0.0067218793286250925 … -6.995312308149919e-5 -8.599224428838994e-5; … ; 0.001442034139372837 -0.001062274922721219 … -0.010598631041369768 0.00033620995021918255; -0.0008091752839708039 0.0004866180895021989 … -0.0006587656426047378 -0.004964283673423235], [0.5298365814519642 0.09523826794083615 … -0.001136170545785052 -0.00011578230956602956; -0.2223131540466934 0.962482152071438 … -0.003807544114067426 -0.0007082790531054352; … ; 0.003827818821274292 -0.0006876958470524684 … 0.7983248059673845 0.05404643542802484; -0.005778254839320214 -0.003472382141737338 … -0.19352827723792843 -0.08001804889521714]])"
      ]
     },
     "execution_count": 17,
     "metadata": {},
     "output_type": "execute_result"
    }
   ],
   "source": [
    "fit1_total_hyperparameters, result = GLOM_RV.fit_GLOM(problem_definition, initial_total_hyperparameters, kernel_hyper_priors, add_kick!)\n",
    "# fit_GLOM returns a vector of num_kernel_hyperparameters gp hyperparameters\n",
    "# followed by the GLOM coefficients and the Optim result object\n",
    "workspace = GLOM.nlogL_matrix_workspace(problem_definition, fit1_total_hyperparameters)"
   ]
  },
  {
   "cell_type": "code",
   "execution_count": 18,
   "id": "photographic-military",
   "metadata": {
    "scrolled": true
   },
   "outputs": [
    {
     "name": "stdout",
     "output_type": "stream",
     "text": [
      "Array dimensions do not match. The matrix can't be symmetric\n"
     ]
    },
    {
     "data": {
      "text/plain": [
       "3-element Array{Array{Float64,1},1}:\n",
       " [1.6675314966576853, 2.2116219434191495, 2.5218980617119047, 3.1229423937677527, 3.9177814263208424, 2.3804314363641903, 1.8169067978706677, 1.7759355868044218, 2.2420147485693445, -0.7810777253476199  …  -0.7413713411565512, 0.4657268845555395, 0.14897872984467347, 0.9974450441303505, 1.1539551206165746, 0.15784621796793577, -2.200970286425864, -4.180767957017474, -2.6348881445632126, -1.583756379439785]\n",
       " [-8.166083049118043, 10.68980470891454, -38.70707653208082, -12.916494667572008, -17.983433578266165, -33.52075636563325, -65.2110737392445, -17.15359634226396, -104.94266656788328, -34.03787714492622  …  20.93597700288253, 2.8144837147557125, 70.42869151119942, 38.81608104118394, 42.89887377431334, 36.57383749324839, 3.088316758396351, 44.16338504202108, 35.18163596195165, 45.8889406089299]\n",
       " [23.000431256098544, 27.260890132878565, 31.536192073729975, 30.817487659498944, 25.252978639646688, 20.82724564884524, 19.71943826060347, 15.8894329555274, 16.80171650395143, 2.5236053416901534  …  -0.8334621503141754, 13.338165114146578, 10.570629301888347, 11.54550370282095, 10.898223536257523, 10.600209023144854, -11.608031662003015, -8.998942174120486, -1.0251284889288796, 3.0574217119453846]"
      ]
     },
     "execution_count": 18,
     "metadata": {},
     "output_type": "execute_result"
    }
   ],
   "source": [
    "## Plotting initial results\n",
    "\n",
    "plot_xs = collect(LinRange(obs_xs[1]-10, obs_xs[end]+10, 300))\n",
    "post, post_err, post_obs = GLOM_RV.GLOM_posteriors(problem_definition, plot_xs, fit1_total_hyperparameters)\n",
    "GLOM_rvs_at_plot_xs, GLOM_ind1_at_plot_xs, GLOM_ind2_at_plot_xs = post\n",
    "GLOM_rvs_err_at_plot_xs, GLOM_ind1_err_at_plot_xs, GLOM_ind2_err_at_plot_xs = post_err\n",
    "GLOM_rvs_at_obs_xs, GLOM_ind1_at_obs_xs, GLOM_ind2_at_obs_xs = post_obs"
   ]
  },
  {
   "cell_type": "code",
   "execution_count": 21,
   "id": "inappropriate-peoples",
   "metadata": {},
   "outputs": [
    {
     "name": "stdout",
     "output_type": "stream",
     "text": [
      "Array dimensions do not match. The matrix can't be symmetric\n"
     ]
    },
    {
     "data": {
      "text/plain": [
       "3-element Array{Array{Array{Float64,1},1},1}:\n",
       " [[-3.416523674389593, 5.047644954489262, -2.2950276974438584, -1.169983936537997, 4.189655012766938, -1.389207860686583, 3.911659658717494, -0.9334152680777013, -2.62561763970614, -2.905498632211948  …  -3.0297307994236644, -1.6711443950166276, -0.23371175223172497, -1.145443349618886, -0.18269561011019406, 2.265507237392818, 0.6534606776089557, -4.350759298292009, 2.07987044218359, -1.9041991029577983], [-60.820328096116434, -32.679743914773155, 76.74721760396878, -20.12668139425965, 27.91060966730327, -48.93354413300465, 72.91366967484429, -17.967422176779852, -47.979101422312375, 11.64328375203502  …  9.267059787658127, -13.211228729641677, -33.941991569695304, 42.457453859911816, -54.03499038920713, -0.14120332656694964, 37.12954980128795, -33.71391114012009, 19.640982897342813, -37.71380121407705], [7.094169831057966, 7.2956443126028265, 5.575053331034287, 9.758932390410886, 7.698419609829167, 1.493738260459429, -0.7473854307359389, -8.122793703063852, -2.611303671162072, 8.317134526138585  …  -12.81388353470388, -6.638226677071339, -4.048541556397135, -0.0743215794643769, 0.1556515956916188, -2.4633517025424885, -7.792242209826797, -4.0775682626736085, 1.3309491942850362, 0.0981395120208035]]\n",
       " [[5.875390391654354, 5.444075558948832, 5.389685000637391, 5.6693702362454514, 5.077302447388505, 2.654266906346488, 2.2250908225704547, 2.5453263869334233, 2.3086939487214, 2.111383558782539  …  3.1629592122676704, 5.398630294475482, 6.026701062816556, 5.811445111024302, 5.457932800597537, 3.590631716733693, 3.2205209243550965, 2.397475731621831, 4.9834537031179655, 5.828669858097266], [113.15963685693691, 109.90755226528647, 106.13279399441501, 108.71644187216984, 85.0199254703038, 52.13675662551113, 56.11908473583651, 47.63162806482854, 47.909225217733365, 47.7198376426468  …  73.17899980680448, 97.47945201674455, 119.11515939847713, 114.09002217225944, 107.79746882487818, 84.64134246468541, 61.04093681052698, 79.84572678509994, 104.43709745005695, 110.06175019944315], [15.86494710103359, 15.776003628783991, 16.015249293966054, 14.7207072723698, 11.54878803670765, 7.87683274198426, 7.923729573243142, 8.106425382386256, 7.669426378295014, 7.40436708750067  …  12.043560738140387, 14.129889204184444, 15.68846514108548, 16.378439943688484, 13.369633046292961, 10.828013676056187, 10.098581789159597, 10.908786971953509, 12.518757886843291, 15.208180652505126]]\n",
       " [[1.6675314966576853, 2.2116219434191495, 2.5218980617119047, 3.1229423937677527, 3.9177814263208424, 2.3804314363641903, 1.8169067978706677, 1.7759355868044218, 2.2420147485693445, -0.7810777253476199  …  -0.7413713411565512, 0.4657268845555395, 0.14897872984467347, 0.9974450441303505, 1.1539551206165746, 0.15784621796793577, -2.200970286425864, -4.180767957017474, -2.6348881445632126, -1.583756379439785], [-8.166083049118043, 10.68980470891454, -38.70707653208082, -12.916494667572008, -17.983433578266165, -33.52075636563325, -65.2110737392445, -17.15359634226396, -104.94266656788328, -34.03787714492622  …  20.93597700288253, 2.8144837147557125, 70.42869151119942, 38.81608104118394, 42.89887377431334, 36.57383749324839, 3.088316758396351, 44.16338504202108, 35.18163596195165, 45.8889406089299], [23.000431256098544, 27.260890132878565, 31.536192073729975, 30.817487659498944, 25.252978639646688, 20.82724564884524, 19.71943826060347, 15.8894329555274, 16.80171650395143, 2.5236053416901534  …  -0.8334621503141754, 13.338165114146578, 10.570629301888347, 11.54550370282095, 10.898223536257523, 10.600209023144854, -11.608031662003015, -8.998942174120486, -1.0251284889288796, 3.0574217119453846]]"
      ]
     },
     "execution_count": 21,
     "metadata": {},
     "output_type": "execute_result"
    }
   ],
   "source": [
    "plot_xs = collect(LinRange(obs_xs[1]-10, obs_xs[end]+10, 300))\n",
    "post, post_err, post_obs = GLOM_RV.GLOM_posteriors(problem_definition, plot_xs, fit1_total_hyperparameters)"
   ]
  },
  {
   "cell_type": "code",
   "execution_count": 22,
   "id": "three-short",
   "metadata": {},
   "outputs": [
    {
     "data": {
      "text/plain": [
       "12-element Array{Float64,1}:\n",
       " -0.5944904369357757\n",
       " -0.5356196276683625\n",
       " -0.9874265473936238\n",
       "  2.469519904145497\n",
       "  0.0\n",
       "  0.0\n",
       "  0.0\n",
       " -0.5600321062369216\n",
       " -0.08823700223611936\n",
       " 25.29311926020973\n",
       " 45.93456991339085\n",
       "  6.582495576839502"
      ]
     },
     "execution_count": 22,
     "metadata": {},
     "output_type": "execute_result"
    }
   ],
   "source": [
    "fit1_total_hyperparameters"
   ]
  },
  {
   "cell_type": "code",
   "execution_count": null,
   "id": "orange-patio",
   "metadata": {},
   "outputs": [],
   "source": []
  }
 ],
 "metadata": {
  "kernelspec": {
   "display_name": "Julia 1.5.1",
   "language": "julia",
   "name": "julia-1.5"
  },
  "language_info": {
   "file_extension": ".jl",
   "mimetype": "application/julia",
   "name": "julia",
   "version": "1.5.1"
  }
 },
 "nbformat": 4,
 "nbformat_minor": 5
}
