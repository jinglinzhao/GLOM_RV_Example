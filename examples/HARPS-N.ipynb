{
 "cells": [
  {
   "cell_type": "code",
   "execution_count": 1,
   "id": "appropriate-aside",
   "metadata": {},
   "outputs": [
    {
     "name": "stdout",
     "output_type": "stream",
     "text": [
      "\u001b[?25l\u001b[2K\u001b[?25h"
     ]
    },
    {
     "name": "stderr",
     "output_type": "stream",
     "text": [
      "\u001b[32m\u001b[1m   Updating\u001b[22m\u001b[39m git-repo `/Users/az/Documents/GitHub/GLOM_RV_Example`\n",
      "\u001b[32m\u001b[1m   Updating\u001b[22m\u001b[39m registry at `~/.julia/registries/General`\n",
      "\u001b[32m\u001b[1m  Resolving\u001b[22m\u001b[39m package versions...\n",
      "\u001b[32m\u001b[1mNo Changes\u001b[22m\u001b[39m to `~/Documents/GitHub/GLOM_RV_Example/examples/Project.toml`\n",
      "\u001b[32m\u001b[1mNo Changes\u001b[22m\u001b[39m to `~/Documents/GitHub/GLOM_RV_Example/examples/Manifest.toml`\n"
     ]
    }
   ],
   "source": [
    "using Pkg\n",
    "Pkg.add(;path=\"/Users/az/Documents/GitHub/GLOM_RV_Example\")"
   ]
  },
  {
   "cell_type": "code",
   "execution_count": 2,
   "id": "passing-sherman",
   "metadata": {},
   "outputs": [
    {
     "name": "stderr",
     "output_type": "stream",
     "text": [
      "\u001b[32m\u001b[1m Activating\u001b[22m\u001b[39m environment at `~/Documents/GitHub/GLOM_RV_Example/examples/examples/Project.toml`\n"
     ]
    }
   ],
   "source": [
    "\n",
    "Pkg.activate(\"examples\")\n",
    "Pkg.instantiate()"
   ]
  },
  {
   "cell_type": "code",
   "execution_count": 3,
   "id": "welcome-cooler",
   "metadata": {},
   "outputs": [
    {
     "name": "stderr",
     "output_type": "stream",
     "text": [
      "\u001b[32m\u001b[1m  Resolving\u001b[22m\u001b[39m package versions...\n",
      "\u001b[32m\u001b[1mNo Changes\u001b[22m\u001b[39m to `~/Documents/GitHub/GLOM_RV_Example/examples/examples/Project.toml`\n",
      "\u001b[32m\u001b[1mNo Changes\u001b[22m\u001b[39m to `~/Documents/GitHub/GLOM_RV_Example/examples/examples/Manifest.toml`\n"
     ]
    }
   ],
   "source": [
    "import Pkg; Pkg.add(\"CSV\")\n",
    "\n",
    "using Statistics\n",
    "\n",
    "# for det()\n",
    "using LinearAlgebra\n",
    "\n",
    "# for importing the data from CSV\n",
    "using DataFrames\n",
    "using CSV\n"
   ]
  },
  {
   "cell_type": "code",
   "execution_count": 4,
   "id": "technical-bosnia",
   "metadata": {},
   "outputs": [
    {
     "data": {
      "text/plain": [
       "GPLinearODEMaker"
      ]
     },
     "execution_count": 4,
     "metadata": {},
     "output_type": "execute_result"
    }
   ],
   "source": [
    "# For GLOM\n",
    "# import Pkg; Pkg.add(\"GPLinearODEMaker\")\n",
    "import GPLinearODEMaker; GLOM = GPLinearODEMaker"
   ]
  },
  {
   "cell_type": "code",
   "execution_count": 5,
   "id": "retained-champion",
   "metadata": {},
   "outputs": [
    {
     "data": {
      "text/plain": [
       "GLOM_RV_Example"
      ]
     },
     "execution_count": 5,
     "metadata": {},
     "output_type": "execute_result"
    }
   ],
   "source": [
    "# For this module\n",
    "using GLOM_RV_Example; GLOM_RV = GLOM_RV_Example"
   ]
  },
  {
   "cell_type": "code",
   "execution_count": 6,
   "id": "cross-colombia",
   "metadata": {},
   "outputs": [
    {
     "name": "stderr",
     "output_type": "stream",
     "text": [
      "\u001b[32m\u001b[1m  Resolving\u001b[22m\u001b[39m package versions...\n",
      "\u001b[32m\u001b[1mNo Changes\u001b[22m\u001b[39m to `~/Documents/GitHub/GLOM_RV_Example/examples/examples/Project.toml`\n",
      "\u001b[32m\u001b[1mNo Changes\u001b[22m\u001b[39m to `~/Documents/GitHub/GLOM_RV_Example/examples/examples/Manifest.toml`\n"
     ]
    }
   ],
   "source": [
    "# For units in orbit fitting functions\n",
    "import Pkg; Pkg.add(\"Unitful\")\n",
    "using UnitfulAstro, Unitful"
   ]
  },
  {
   "cell_type": "code",
   "execution_count": 7,
   "id": "imposed-romance",
   "metadata": {},
   "outputs": [
    {
     "data": {
      "text/plain": [
       "(GPLinearODEMaker.qp_kernel, 3)"
      ]
     },
     "execution_count": 7,
     "metadata": {},
     "output_type": "execute_result"
    }
   ],
   "source": [
    "\n",
    "## Problem setup\n",
    "\n",
    "# CHANGE: choose a kernel, I suggest 3 for Matern 5/2 or 4 for Quasi-periodic\n",
    "# kernel\n",
    "kernel_choice = 4\n",
    "kernel_names = [\"pp\", \"se\", \"m52\", \"qp\", \"m52_m52\", \"se_se\"]\n",
    "kernel_name = kernel_names[kernel_choice]\n",
    "kernel_function, num_kernel_hyperparameters = GLOM.include_kernel(kernel_name)"
   ]
  },
  {
   "cell_type": "code",
   "execution_count": 8,
   "id": "iraqi-elder",
   "metadata": {},
   "outputs": [
    {
     "data": {
      "text/plain": [
       "567-element Array{Float64,1}:\n",
       " -521.6919832368294\n",
       " -520.693027812893\n",
       " -519.6935705179712\n",
       " -518.6966490866398\n",
       " -517.6936680239596\n",
       " -516.6960158565344\n",
       " -515.6896057711201\n",
       " -514.7484853224014\n",
       " -512.6859100910442\n",
       " -502.68925038841553\n",
       " -501.70853298048314\n",
       " -500.7112448332482\n",
       " -499.663915724188\n",
       "    ⋮\n",
       "  546.2984948420926\n",
       "  547.3109326377598\n",
       "  548.2987155717055\n",
       "  549.298295535642\n",
       "  551.3166310471352\n",
       "  552.2934769574713\n",
       "  553.2954330905413\n",
       "  556.3016304768971\n",
       "  558.3333976976355\n",
       "  559.3063403805936\n",
       "  560.3000211960316\n",
       "  561.2330296329455"
      ]
     },
     "execution_count": 8,
     "metadata": {},
     "output_type": "execute_result"
    }
   ],
   "source": [
    "# CHANGE: the stars rotation rate which is used as the first guess for some GLOM\n",
    "# hyperparameters and starting point for priors\n",
    "star_rot_rate = 27.  # days for solar rotation\n",
    "\n",
    "# CHANGE: observation times go here\n",
    "using DelimitedFiles\n",
    "obs_xs = collect(Iterators.flatten(readdlm(\"./data/bjd_daily.txt\")))\n",
    "# taking out the mean observation times makes the optimization easier for models\n",
    "# with periodic parameters\n",
    "GLOM_RV.remove_mean!(obs_xs)"
   ]
  },
  {
   "cell_type": "code",
   "execution_count": 9,
   "id": "starting-producer",
   "metadata": {},
   "outputs": [
    {
     "data": {
      "text/plain": [
       "567-element Array{Float64,1}:\n",
       " 0.03036812271298431\n",
       " 0.028174782382301478\n",
       " 0.02938168070678178\n",
       " 0.030733648918260983\n",
       " 0.030273630749804166\n",
       " 0.02978809045216476\n",
       " 0.03479668670704809\n",
       " 0.05661399795951553\n",
       " 0.049404085779396215\n",
       " 0.02941258553740282\n",
       " 0.07400877379839974\n",
       " 0.05641940799521519\n",
       " 0.05493576014838747\n",
       " ⋮\n",
       " 0.035898019589951376\n",
       " 0.03852508007629684\n",
       " 0.034726130635685894\n",
       " 0.06653000613481366\n",
       " 0.03769443757625897\n",
       " 0.03762794120703391\n",
       " 0.08524877149613588\n",
       " 0.08505459459542762\n",
       " 0.05667514069294367\n",
       " 0.040044931610342276\n",
       " 0.040362126578561225\n",
       " 0.07987414815014192"
      ]
     },
     "execution_count": 9,
     "metadata": {},
     "output_type": "execute_result"
    }
   ],
   "source": [
    "# CHANGE: rvs and their errors go here\n",
    "obs_rvs = collect(Iterators.flatten(readdlm(\"./data/rv_daily.txt\")))\n",
    "# inject_ks = GLOM_RV.kep_signal(; K=50u\"m/s\", P=sqrt(2)*5u\"d\", M0=rand()*2*π, ω_or_k=rand()*2*π, e_or_h=0.1)\n",
    "# obs_rvs[:] .+= ustrip.(inject_ks.(obs_xs.*u\"d\"))\n",
    "obs_rvs_err = collect(Iterators.flatten(readdlm(\"./data/erv_daily.txt\")))"
   ]
  },
  {
   "cell_type": "code",
   "execution_count": 10,
   "id": "addressed-cologne",
   "metadata": {},
   "outputs": [
    {
     "data": {
      "text/plain": [
       "567-element Array{Float64,1}:\n",
       "  5.756971312004282\n",
       "  5.3652157914954595\n",
       "  5.654645807928711\n",
       "  5.925730235674198\n",
       "  5.825554595635701\n",
       "  5.887501707941508\n",
       "  6.627535360942655\n",
       " 10.619782436423465\n",
       "  9.48548099736605\n",
       "  5.536845159896076\n",
       " 13.636395158606499\n",
       " 10.394849664742399\n",
       " 10.086845919158254\n",
       "  ⋮\n",
       "  6.43037650634545\n",
       "  6.968414949269418\n",
       "  6.354296665094809\n",
       " 11.94942703898325\n",
       "  6.845679613674609\n",
       "  6.914610698625592\n",
       " 15.278262565559656\n",
       " 15.088280249291216\n",
       " 10.530894994919043\n",
       "  7.371796212363171\n",
       "  7.278971515511814\n",
       " 14.141866792926344"
      ]
     },
     "execution_count": 10,
     "metadata": {},
     "output_type": "execute_result"
    }
   ],
   "source": [
    "# CHANGE: activity indicators and thier errors go here\n",
    "# you can actually have as many as you want, but obviously it will take longer\n",
    "# to fit\n",
    "obs_indicator1 = collect(Iterators.flatten(readdlm(\"./data/C1.txt\")))\n",
    "obs_indicator1_err = collect(Iterators.flatten(readdlm(\"./data/err_C1.txt\")))\n",
    "obs_indicator2 = collect(Iterators.flatten(readdlm(\"./data/C2.txt\")))\n",
    "obs_indicator2_err = collect(Iterators.flatten(readdlm(\"./data/err_C2.txt\")))\n"
   ]
  },
  {
   "cell_type": "code",
   "execution_count": 11,
   "id": "internal-learning",
   "metadata": {},
   "outputs": [
    {
     "data": {
      "text/plain": [
       "567-element Array{Float64,1}:\n",
       "  -9.19469615309195\n",
       "  -2.181219040108357\n",
       "  24.36547134951356\n",
       "  11.572529475741238\n",
       "  15.839708855084286\n",
       "   6.184546259448797\n",
       "  -2.3319649315486233\n",
       "  -6.962528319440719\n",
       "   7.891000324704993\n",
       " -12.15126452117482\n",
       "  -6.724323015519727\n",
       "  -3.605547890793848\n",
       "  -1.1283323401620011\n",
       "   ⋮\n",
       "  30.61435175253286\n",
       "  20.18970107755273\n",
       "  32.69960257219914\n",
       "  22.37319327818817\n",
       "  10.755748439616642\n",
       "  19.025340456475934\n",
       "  22.446504635230657\n",
       "  55.76007082977286\n",
       "  33.29974799399908\n",
       "  17.139171367331546\n",
       "  21.66094258543787\n",
       "   9.328425393001641"
      ]
     },
     "execution_count": 11,
     "metadata": {},
     "output_type": "execute_result"
    }
   ],
   "source": [
    "# removing means as the GP model assumes zero mean\n",
    "GLOM_RV.remove_mean!(obs_rvs)\n",
    "GLOM_RV.remove_mean!(obs_indicator1)\n",
    "GLOM_RV.remove_mean!(obs_indicator2)"
   ]
  },
  {
   "cell_type": "code",
   "execution_count": 12,
   "id": "artistic-cornell",
   "metadata": {},
   "outputs": [
    {
     "data": {
      "text/plain": [
       "1701-element Array{Float64,1}:\n",
       "  0.03036812271298431\n",
       "  7.86437518965105\n",
       "  5.756971312004282\n",
       "  0.028174782382301478\n",
       "  8.077654743316922\n",
       "  5.3652157914954595\n",
       "  0.02938168070678178\n",
       "  7.700195206719579\n",
       "  5.654645807928711\n",
       "  0.030733648918260983\n",
       "  7.8474301601074075\n",
       "  5.925730235674198\n",
       "  0.030273630749804166\n",
       "  ⋮\n",
       "  0.05667514069294367\n",
       " 16.321341796880354\n",
       " 10.530894994919043\n",
       "  0.040044931610342276\n",
       " 11.004962966143173\n",
       "  7.371796212363171\n",
       "  0.040362126578561225\n",
       " 11.017223811322138\n",
       "  7.278971515511814\n",
       "  0.07987414815014192\n",
       " 21.68829497563989\n",
       " 14.141866792926344"
      ]
     },
     "execution_count": 12,
     "metadata": {},
     "output_type": "execute_result"
    }
   ],
   "source": [
    "# CHANGE: change these lines if you add more than 2 indicators\n",
    "# this takes the data and riffles it together so it takes the form\n",
    "# [rv_1, ind1_1, ind2_1, rv_2, ind1_2, ind2_2, ...]\n",
    "n_out = 3  # number of indicators + 1\n",
    "obs_ys = collect(Iterators.flatten(zip(obs_rvs, obs_indicator1, obs_indicator2)))\n",
    "obs_noise = collect(Iterators.flatten(zip(obs_rvs_err, obs_indicator1_err, obs_indicator2_err)))\n"
   ]
  },
  {
   "cell_type": "code",
   "execution_count": 13,
   "id": "varying-renewal",
   "metadata": {},
   "outputs": [
    {
     "data": {
      "text/plain": [
       "3"
      ]
     },
     "execution_count": 13,
     "metadata": {},
     "output_type": "execute_result"
    }
   ],
   "source": [
    "# How many differention orders we want in the GLOM model\n",
    "n_dif = 2 + 1"
   ]
  },
  {
   "cell_type": "code",
   "execution_count": 14,
   "id": "brazilian-factor",
   "metadata": {},
   "outputs": [],
   "source": [
    "# CHANGE: consider changing a0 (the GLOM coefficients that are used, see\n",
    "# commented lines below)\n",
    "# If all a's active:\n",
    "problem_definition = GLOM.GLO(kernel_function, num_kernel_hyperparameters, n_dif, n_out, obs_xs, copy(obs_ys); noise=copy(obs_noise), a0=[[1. 1 1];[1 1 1];[1 1 1]])\n",
    "# problem_definition = GLOM.GLO(kernel_function, num_kernel_hyperparameters, n_dif, n_out, obs_xs, copy(obs_ys); noise=copy(obs_noise), a0=[[1. 1 0];[1 0 1];[1 0 1]])\n",
    "\n",
    "# Makes the std of each output equal to 1, improves fitting stability\n",
    "# the normalizations are stored in problem_definition.normals\n",
    "GLOM.normalize_problem_definition!(problem_definition)"
   ]
  },
  {
   "cell_type": "code",
   "execution_count": 15,
   "id": "rough-condition",
   "metadata": {},
   "outputs": [
    {
     "data": {
      "text/plain": [
       "12-element Array{Float64,1}:\n",
       "  1.0\n",
       "  1.0\n",
       "  1.0\n",
       "  1.0\n",
       "  1.0\n",
       "  1.0\n",
       "  1.0\n",
       "  1.0\n",
       "  1.0\n",
       " 27.0\n",
       " 54.0\n",
       "  1.0"
      ]
     },
     "execution_count": 15,
     "metadata": {},
     "output_type": "execute_result"
    }
   ],
   "source": [
    "# CHANGE: Setting initial fit values\n",
    "initial_total_hyperparameters = collect(Iterators.flatten(problem_definition.a0))\n",
    "initial_hypers = [[star_rot_rate], [star_rot_rate], [star_rot_rate], [star_rot_rate, 2 * star_rot_rate, 1], [star_rot_rate, 2 * star_rot_rate, 1], [star_rot_rate, 2 * star_rot_rate, 1]]\n",
    "append!(initial_total_hyperparameters, initial_hypers[kernel_choice])"
   ]
  },
  {
   "cell_type": "code",
   "execution_count": 16,
   "id": "bizarre-amsterdam",
   "metadata": {},
   "outputs": [
    {
     "data": {
      "text/plain": [
       "add_kick! (generic function with 1 method)"
      ]
     },
     "execution_count": 16,
     "metadata": {},
     "output_type": "execute_result"
    }
   ],
   "source": [
    "## Fitting GLOM Model\n",
    "\n",
    "# CHANGE: Setting kernel hyperparameter priors and kick function\n",
    "# kick functions help avoid saddle points\n",
    "tighten_lengthscale_priors = 3\n",
    "if kernel_name in [\"pp\", \"se\", \"m52\"]\n",
    "    kernel_hyper_priors(hps::Vector{<:Real}, d::Integer) =\n",
    "        GLOM_RV.kernel_hyper_priors_1λ(hps, d, star_rot_rate, star_rot_rate / 2 / tighten_lengthscale_priors)\n",
    "    add_kick!(hps::Vector{<:Real}) = GLOM_RV.add_kick_1λ!(hps)\n",
    "elseif kernel_name == \"qp\"\n",
    "    kernel_hyper_priors(hps::Vector{<:Real}, d::Integer) =\n",
    "        GLOM_RV.kernel_hyper_priors_qp(hps, d, [star_rot_rate, 2 * star_rot_rate, 1], [star_rot_rate / 2, star_rot_rate / 2, 0.4] ./ tighten_lengthscale_priors)\n",
    "    add_kick!(hps::Vector{<:Real}) = GLOM_RV.add_kick_qp!(hps)\n",
    "elseif kernel_name in [\"se_se\", \"m52_m52\"]\n",
    "    kernel_hyper_priors(hps::Vector{<:Real}, d::Integer) =\n",
    "        GLOM_RV.kernel_hyper_priors_2λ(hps, d, [star_rot_rate, 2 * star_rot_rate, 1], [star_rot_rate / 2, star_rot_rate / 2, 1] ./ tighten_lengthscale_priors)\n",
    "    add_kick!(hps::Vector{<:Real}) = GLOM_RV.add_kick_2λ!(hps)\n",
    "else\n",
    "    # kernel_hyper_priors(hps::Vector{<:Real}, d::Integer) = custom function\n",
    "end\n",
    "\n",
    "\n"
   ]
  },
  {
   "cell_type": "code",
   "execution_count": null,
   "id": "unlikely-alignment",
   "metadata": {},
   "outputs": [
    {
     "name": "stdout",
     "output_type": "stream",
     "text": [
      "gridsearching over hp10\n",
      "starting at hp = 27.0 -> 55933.88821624688\n",
      "searching from 20.25 to 33.75\n",
      "ending at hp   = 28.35 -> 53905.66879537845\n",
      "[1.0, 1.0, 1.0, 1.0, 1.0, 1.0, 1.0, 1.0, 1.0, 28.35, 54.0, 1.0]\n",
      "\n",
      "[1.074738454118229, 0.7102617549534178, 0.7941053271075498, 1.1428292246520722, 0.9931206101157951, 0.9817883149305041, 1.5039917546181174, 1.0044360018110856, 1.0035007550524033, 28.380433309984245, 53.954433547720576, 1.7682786350874862]\n",
      "\n",
      "Iteration:              1\n",
      "Time so far:            2165.762631893158 s\n",
      "Unnormalized posterior: 25831.643146116367\n",
      "Gradient norm:          24296.46769581849\n",
      "\n",
      "[1.1619719162997066, 0.5013605417272822, 0.5222792628581263, 1.268171550590119, 1.043587978066286, 1.0348321003063807, 1.712871556305054, 0.9404148974356956, 1.0164292063650464, 30.432816098781014, 53.93804793846952, 2.3579022227075566]\n",
      "\n",
      "Iteration:              2\n",
      "Time so far:            4374.924706935883 s\n",
      "Unnormalized posterior: 15161.63691299514\n",
      "Gradient norm:          11835.678727886629\n",
      "\n",
      "[0.6289293554477634, -0.05701488073861982, -0.052153376270470786, 1.566003672471243, 0.5954680855238217, 0.8034387609779227, 2.6109176931933136, 0.8568331557659502, 0.8100062938328972, 31.52302781540667, 53.73506009764833, 3.1612130048778746]\n",
      "\n",
      "Iteration:              3\n",
      "Time so far:            6736.2852239608765 s\n",
      "Unnormalized posterior: 8835.550974030164\n",
      "Gradient norm:          2983.651862091622\n",
      "\n"
     ]
    }
   ],
   "source": [
    "fit1_total_hyperparameters, result = GLOM_RV.fit_GLOM(problem_definition, initial_total_hyperparameters, kernel_hyper_priors, add_kick!)\n",
    "# fit_GLOM returns a vector of num_kernel_hyperparameters gp hyperparameters\n",
    "# followed by the GLOM coefficients and the Optim result object\n",
    "workspace = GLOM.nlogL_matrix_workspace(problem_definition, fit1_total_hyperparameters)"
   ]
  },
  {
   "cell_type": "code",
   "execution_count": null,
   "id": "photographic-military",
   "metadata": {
    "scrolled": true
   },
   "outputs": [],
   "source": [
    "## Plotting initial results\n",
    "\n",
    "plot_xs = collect(LinRange(obs_xs[1]-10, obs_xs[end]+10, 300))\n",
    "post, post_err, post_obs = GLOM_RV.GLOM_posteriors(problem_definition, plot_xs, fit1_total_hyperparameters)\n",
    "GLOM_rvs_at_plot_xs, GLOM_ind1_at_plot_xs, GLOM_ind2_at_plot_xs = post\n",
    "GLOM_rvs_err_at_plot_xs, GLOM_ind1_err_at_plot_xs, GLOM_ind2_err_at_plot_xs = post_err\n",
    "GLOM_rvs_at_obs_xs, GLOM_ind1_at_obs_xs, GLOM_ind2_at_obs_xs = post_obs"
   ]
  },
  {
   "cell_type": "code",
   "execution_count": null,
   "id": "three-short",
   "metadata": {},
   "outputs": [],
   "source": []
  }
 ],
 "metadata": {
  "kernelspec": {
   "display_name": "Julia 1.5.1",
   "language": "julia",
   "name": "julia-1.5"
  },
  "language_info": {
   "file_extension": ".jl",
   "mimetype": "application/julia",
   "name": "julia",
   "version": "1.5.1"
  }
 },
 "nbformat": 4,
 "nbformat_minor": 5
}
