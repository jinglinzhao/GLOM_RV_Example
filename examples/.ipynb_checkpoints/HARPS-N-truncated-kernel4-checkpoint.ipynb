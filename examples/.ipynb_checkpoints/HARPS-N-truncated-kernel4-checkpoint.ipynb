{
 "cells": [
  {
   "cell_type": "code",
   "execution_count": 1,
   "id": "appropriate-aside",
   "metadata": {},
   "outputs": [
    {
     "name": "stdout",
     "output_type": "stream",
     "text": [
      "\u001b[?25l\u001b[2K\u001b[?25h"
     ]
    },
    {
     "name": "stderr",
     "output_type": "stream",
     "text": [
      "\u001b[32m\u001b[1m   Updating\u001b[22m\u001b[39m git-repo `/Users/az/Documents/GitHub/GLOM_RV_Example`\n",
      "\u001b[32m\u001b[1m   Updating\u001b[22m\u001b[39m registry at `~/.julia/registries/General`\n",
      "\u001b[32m\u001b[1m  Resolving\u001b[22m\u001b[39m package versions...\n",
      "\u001b[32m\u001b[1mNo Changes\u001b[22m\u001b[39m to `~/Documents/GitHub/GLOM_RV_Example/examples/Project.toml`\n",
      "\u001b[32m\u001b[1mNo Changes\u001b[22m\u001b[39m to `~/Documents/GitHub/GLOM_RV_Example/examples/Manifest.toml`\n"
     ]
    }
   ],
   "source": [
    "using Pkg\n",
    "Pkg.add(;path=\"/Users/az/Documents/GitHub/GLOM_RV_Example\")"
   ]
  },
  {
   "cell_type": "code",
   "execution_count": 2,
   "id": "passing-sherman",
   "metadata": {},
   "outputs": [
    {
     "name": "stderr",
     "output_type": "stream",
     "text": [
      "\u001b[32m\u001b[1m Activating\u001b[22m\u001b[39m environment at `~/Documents/GitHub/GLOM_RV_Example/examples/examples/Project.toml`\n"
     ]
    }
   ],
   "source": [
    "\n",
    "Pkg.activate(\"examples\")\n",
    "Pkg.instantiate()"
   ]
  },
  {
   "cell_type": "code",
   "execution_count": 3,
   "id": "welcome-cooler",
   "metadata": {},
   "outputs": [
    {
     "name": "stderr",
     "output_type": "stream",
     "text": [
      "\u001b[32m\u001b[1m  Resolving\u001b[22m\u001b[39m package versions...\n",
      "\u001b[32m\u001b[1mNo Changes\u001b[22m\u001b[39m to `~/Documents/GitHub/GLOM_RV_Example/examples/examples/Project.toml`\n",
      "\u001b[32m\u001b[1mNo Changes\u001b[22m\u001b[39m to `~/Documents/GitHub/GLOM_RV_Example/examples/examples/Manifest.toml`\n"
     ]
    }
   ],
   "source": [
    "import Pkg; Pkg.add(\"CSV\")\n",
    "\n",
    "using Statistics\n",
    "\n",
    "# for det()\n",
    "using LinearAlgebra\n",
    "\n",
    "# for importing the data from CSV\n",
    "using DataFrames\n",
    "using CSV\n"
   ]
  },
  {
   "cell_type": "code",
   "execution_count": 4,
   "id": "technical-bosnia",
   "metadata": {},
   "outputs": [
    {
     "data": {
      "text/plain": [
       "GPLinearODEMaker"
      ]
     },
     "execution_count": 4,
     "metadata": {},
     "output_type": "execute_result"
    }
   ],
   "source": [
    "# For GLOM\n",
    "# import Pkg; Pkg.add(\"GPLinearODEMaker\")\n",
    "import GPLinearODEMaker; GLOM = GPLinearODEMaker"
   ]
  },
  {
   "cell_type": "code",
   "execution_count": 5,
   "id": "retained-champion",
   "metadata": {},
   "outputs": [
    {
     "data": {
      "text/plain": [
       "GLOM_RV_Example"
      ]
     },
     "execution_count": 5,
     "metadata": {},
     "output_type": "execute_result"
    }
   ],
   "source": [
    "# For this module\n",
    "using GLOM_RV_Example; GLOM_RV = GLOM_RV_Example"
   ]
  },
  {
   "cell_type": "code",
   "execution_count": 6,
   "id": "cross-colombia",
   "metadata": {},
   "outputs": [
    {
     "name": "stderr",
     "output_type": "stream",
     "text": [
      "\u001b[32m\u001b[1m  Resolving\u001b[22m\u001b[39m package versions...\n",
      "\u001b[32m\u001b[1mNo Changes\u001b[22m\u001b[39m to `~/Documents/GitHub/GLOM_RV_Example/examples/examples/Project.toml`\n",
      "\u001b[32m\u001b[1mNo Changes\u001b[22m\u001b[39m to `~/Documents/GitHub/GLOM_RV_Example/examples/examples/Manifest.toml`\n"
     ]
    }
   ],
   "source": [
    "# For units in orbit fitting functions\n",
    "import Pkg; Pkg.add(\"Unitful\")\n",
    "using UnitfulAstro, Unitful"
   ]
  },
  {
   "cell_type": "code",
   "execution_count": 7,
   "id": "imposed-romance",
   "metadata": {},
   "outputs": [
    {
     "data": {
      "text/plain": [
       "(GPLinearODEMaker.m52_kernel, 1)"
      ]
     },
     "execution_count": 7,
     "metadata": {},
     "output_type": "execute_result"
    }
   ],
   "source": [
    "\n",
    "## Problem setup\n",
    "\n",
    "# CHANGE: choose a kernel, I suggest 3 for Matern 5/2 or 4 for Quasi-periodic\n",
    "# kernel\n",
    "kernel_choice = 4\n",
    "kernel_names = [\"pp\", \"se\", \"m52\", \"qp\", \"m52_m52\", \"se_se\"]\n",
    "kernel_name = kernel_names[kernel_choice]\n",
    "kernel_function, num_kernel_hyperparameters = GLOM.include_kernel(kernel_name)"
   ]
  },
  {
   "cell_type": "code",
   "execution_count": 8,
   "id": "iraqi-elder",
   "metadata": {},
   "outputs": [
    {
     "data": {
      "text/plain": [
       "100-element Array{Float64,1}:\n",
       " -94.0826835292828\n",
       " -93.08372810534638\n",
       " -92.08427081042464\n",
       " -91.08734937909321\n",
       " -90.08436831641302\n",
       " -89.08671614898776\n",
       " -88.08030606357352\n",
       " -87.1391856148548\n",
       " -85.07661038349761\n",
       " -75.07995068086893\n",
       " -74.09923327293654\n",
       " -73.1019451257016\n",
       " -72.05461601664138\n",
       "   ⋮\n",
       "  86.9183723042297\n",
       "  90.89301300501393\n",
       "  91.89041234012984\n",
       "  96.91769183589349\n",
       " 100.89068160001625\n",
       " 101.88447341258143\n",
       " 102.91082533841836\n",
       " 103.8837681139994\n",
       " 105.88832158272999\n",
       " 106.91145564196631\n",
       " 107.88312550192495\n",
       " 108.88539447698713"
      ]
     },
     "execution_count": 8,
     "metadata": {},
     "output_type": "execute_result"
    }
   ],
   "source": [
    "# CHANGE: the stars rotation rate which is used as the first guess for some GLOM\n",
    "# hyperparameters and starting point for priors\n",
    "star_rot_rate = 27  # days for solar rotation\n",
    "last = 100\n",
    "\n",
    "# CHANGE: observation times go here\n",
    "using DelimitedFiles\n",
    "obs_xs = collect(Iterators.flatten(readdlm(\"./data/bjd_daily.txt\")))[1:last]\n",
    "# taking out the mean observation times makes the optimization easier for models\n",
    "# with periodic parameters\n",
    "GLOM_RV.remove_mean!(obs_xs)"
   ]
  },
  {
   "cell_type": "code",
   "execution_count": 9,
   "id": "starting-producer",
   "metadata": {},
   "outputs": [
    {
     "data": {
      "text/plain": [
       "100-element Array{Float64,1}:\n",
       " 0.03036812271298431\n",
       " 0.028174782382301478\n",
       " 0.02938168070678178\n",
       " 0.030733648918260983\n",
       " 0.030273630749804166\n",
       " 0.02978809045216476\n",
       " 0.03479668670704809\n",
       " 0.05661399795951553\n",
       " 0.049404085779396215\n",
       " 0.02941258553740282\n",
       " 0.07400877379839974\n",
       " 0.05641940799521519\n",
       " 0.05493576014838747\n",
       " ⋮\n",
       " 0.14691235315354487\n",
       " 0.05307828537878864\n",
       " 0.042584554070920794\n",
       " 0.06901435317592487\n",
       " 0.05777880997525311\n",
       " 0.05303811006842724\n",
       " 0.05770075708886935\n",
       " 0.04175327852466612\n",
       " 0.04090507117229551\n",
       " 0.05895118403438244\n",
       " 0.040303889806123705\n",
       " 0.03944750090751184"
      ]
     },
     "execution_count": 9,
     "metadata": {},
     "output_type": "execute_result"
    }
   ],
   "source": [
    "# CHANGE: rvs and their errors go here\n",
    "obs_rvs = collect(Iterators.flatten(readdlm(\"./data/rv_daily.txt\")))[1:last]\n",
    "# inject_ks = GLOM_RV.kep_signal(; K=50u\"m/s\", P=sqrt(2)*5u\"d\", M0=rand()*2*π, ω_or_k=rand()*2*π, e_or_h=0.1)\n",
    "# obs_rvs[:] .+= ustrip.(inject_ks.(obs_xs.*u\"d\"))\n",
    "obs_rvs_err = collect(Iterators.flatten(readdlm(\"./data/erv_daily.txt\")))[1:last]"
   ]
  },
  {
   "cell_type": "code",
   "execution_count": 10,
   "id": "addressed-cologne",
   "metadata": {},
   "outputs": [
    {
     "data": {
      "text/plain": [
       "100-element Array{Float64,1}:\n",
       "  5.756971312004282\n",
       "  5.3652157914954595\n",
       "  5.654645807928711\n",
       "  5.925730235674198\n",
       "  5.825554595635701\n",
       "  5.887501707941508\n",
       "  6.627535360942655\n",
       " 10.619782436423465\n",
       "  9.48548099736605\n",
       "  5.536845159896076\n",
       " 13.636395158606499\n",
       " 10.394849664742399\n",
       " 10.086845919158254\n",
       "  ⋮\n",
       " 26.693044848802298\n",
       "  9.892413073405644\n",
       "  7.813029822015975\n",
       " 12.731825673176225\n",
       " 10.461033634526089\n",
       "  9.842709673431468\n",
       " 10.667208707539606\n",
       "  7.744231382374497\n",
       "  7.552010979571698\n",
       " 10.58257459843627\n",
       "  7.519403961091692\n",
       "  7.233208313151117"
      ]
     },
     "execution_count": 10,
     "metadata": {},
     "output_type": "execute_result"
    }
   ],
   "source": [
    "# CHANGE: activity indicators and thier errors go here\n",
    "# you can actually have as many as you want, but obviously it will take longer\n",
    "# to fit\n",
    "obs_indicator1 = collect(Iterators.flatten(readdlm(\"./data/C1.txt\")))[1:last]\n",
    "obs_indicator1_err = collect(Iterators.flatten(readdlm(\"./data/err_C1.txt\")))[1:last]\n",
    "obs_indicator2 = collect(Iterators.flatten(readdlm(\"./data/C2.txt\")))[1:last]\n",
    "obs_indicator2_err = collect(Iterators.flatten(readdlm(\"./data/err_C2.txt\")))[1:last]\n"
   ]
  },
  {
   "cell_type": "code",
   "execution_count": 11,
   "id": "internal-learning",
   "metadata": {},
   "outputs": [
    {
     "data": {
      "text/plain": [
       "100-element Array{Float64,1}:\n",
       "  11.356363769515074\n",
       "  18.369840882498668\n",
       "  44.91653127212058\n",
       "  32.12358939834826\n",
       "  36.39076877769131\n",
       "  26.73560618205582\n",
       "  18.2190949910584\n",
       "  13.588531603166306\n",
       "  28.442060247312018\n",
       "   8.399795401432204\n",
       "  13.826736907087298\n",
       "  16.945512031813177\n",
       "  19.422727582445024\n",
       "   ⋮\n",
       " -26.205247165443875\n",
       "   0.5709376372474573\n",
       "  -6.09410561647665\n",
       "  24.37227136655505\n",
       "  21.860624281480288\n",
       "  -1.5398256067648468\n",
       "  12.081312289070784\n",
       "  14.362266371876192\n",
       "   9.31883822574854\n",
       "   3.3698728914795772\n",
       "  -5.638480496250157\n",
       " -10.254162252573682"
      ]
     },
     "execution_count": 11,
     "metadata": {},
     "output_type": "execute_result"
    }
   ],
   "source": [
    "# removing means as the GP model assumes zero mean\n",
    "GLOM_RV.remove_mean!(obs_rvs)\n",
    "GLOM_RV.remove_mean!(obs_indicator1)\n",
    "GLOM_RV.remove_mean!(obs_indicator2)"
   ]
  },
  {
   "cell_type": "code",
   "execution_count": 12,
   "id": "artistic-cornell",
   "metadata": {},
   "outputs": [
    {
     "data": {
      "text/plain": [
       "300-element Array{Float64,1}:\n",
       "  0.03036812271298431\n",
       "  7.86437518965105\n",
       "  5.756971312004282\n",
       "  0.028174782382301478\n",
       "  8.077654743316922\n",
       "  5.3652157914954595\n",
       "  0.02938168070678178\n",
       "  7.700195206719579\n",
       "  5.654645807928711\n",
       "  0.030733648918260983\n",
       "  7.8474301601074075\n",
       "  5.925730235674198\n",
       "  0.030273630749804166\n",
       "  ⋮\n",
       "  0.04090507117229551\n",
       " 11.675368595519458\n",
       "  7.552010979571698\n",
       "  0.05895118403438244\n",
       " 18.109730207587884\n",
       " 10.58257459843627\n",
       "  0.040303889806123705\n",
       " 12.077619273006398\n",
       "  7.519403961091692\n",
       "  0.03944750090751184\n",
       " 11.219388489133108\n",
       "  7.233208313151117"
      ]
     },
     "execution_count": 12,
     "metadata": {},
     "output_type": "execute_result"
    }
   ],
   "source": [
    "# CHANGE: change these lines if you add more than 2 indicators\n",
    "# this takes the data and riffles it together so it takes the form\n",
    "# [rv_1, ind1_1, ind2_1, rv_2, ind1_2, ind2_2, ...]\n",
    "n_out = 3  # number of indicators + 1\n",
    "obs_ys = collect(Iterators.flatten(zip(obs_rvs, obs_indicator1, obs_indicator2)))\n",
    "obs_noise = collect(Iterators.flatten(zip(obs_rvs_err, obs_indicator1_err, obs_indicator2_err)))\n"
   ]
  },
  {
   "cell_type": "code",
   "execution_count": 13,
   "id": "varying-renewal",
   "metadata": {},
   "outputs": [
    {
     "data": {
      "text/plain": [
       "3"
      ]
     },
     "execution_count": 13,
     "metadata": {},
     "output_type": "execute_result"
    }
   ],
   "source": [
    "# How many differention orders we want in the GLOM model\n",
    "n_dif = 2 + 1"
   ]
  },
  {
   "cell_type": "code",
   "execution_count": 14,
   "id": "brazilian-factor",
   "metadata": {},
   "outputs": [],
   "source": [
    "# CHANGE: consider changing a0 (the GLOM coefficients that are used, see\n",
    "# commented lines below)\n",
    "# If all a's active:\n",
    "# problem_definition = GLOM.GLO(kernel_function, num_kernel_hyperparameters, n_dif, n_out, obs_xs, copy(obs_ys); noise=copy(obs_noise), a0=[[1. 1 1];[1 1 1];[1 1 1]])\n",
    "problem_definition = GLOM.GLO(kernel_function, num_kernel_hyperparameters, n_dif, n_out, obs_xs, copy(obs_ys); noise=copy(obs_noise), a0=[[1. 1 0];[1 0 1];[1 0 1]])\n",
    "\n",
    "# Makes the std of each output equal to 1, improves fitting stability\n",
    "# the normalizations are stored in problem_definition.normals\n",
    "GLOM.normalize_problem_definition!(problem_definition)"
   ]
  },
  {
   "cell_type": "code",
   "execution_count": 15,
   "id": "rough-condition",
   "metadata": {},
   "outputs": [
    {
     "data": {
      "text/plain": [
       "10-element Array{Float64,1}:\n",
       "  1.0\n",
       "  1.0\n",
       "  1.0\n",
       "  1.0\n",
       "  0.0\n",
       "  0.0\n",
       "  0.0\n",
       "  1.0\n",
       "  1.0\n",
       " 27.0"
      ]
     },
     "execution_count": 15,
     "metadata": {},
     "output_type": "execute_result"
    }
   ],
   "source": [
    "# CHANGE: Setting initial fit values\n",
    "initial_total_hyperparameters = collect(Iterators.flatten(problem_definition.a0))\n",
    "initial_hypers = [[star_rot_rate], [star_rot_rate], [star_rot_rate], [star_rot_rate, 2 * star_rot_rate, 1], [star_rot_rate, 2 * star_rot_rate, 1], [star_rot_rate, 2 * star_rot_rate, 1]]\n",
    "append!(initial_total_hyperparameters, initial_hypers[kernel_choice])"
   ]
  },
  {
   "cell_type": "code",
   "execution_count": 16,
   "id": "bizarre-amsterdam",
   "metadata": {},
   "outputs": [
    {
     "data": {
      "text/plain": [
       "add_kick! (generic function with 1 method)"
      ]
     },
     "execution_count": 16,
     "metadata": {},
     "output_type": "execute_result"
    }
   ],
   "source": [
    "## Fitting GLOM Model\n",
    "\n",
    "# CHANGE: Setting kernel hyperparameter priors and kick function\n",
    "# kick functions help avoid saddle points\n",
    "tighten_lengthscale_priors = 3\n",
    "if kernel_name in [\"pp\", \"se\", \"m52\"]\n",
    "    kernel_hyper_priors(hps::Vector{<:Real}, d::Integer) =\n",
    "        GLOM_RV.kernel_hyper_priors_1λ(hps, d, star_rot_rate, star_rot_rate / 2 / tighten_lengthscale_priors)\n",
    "    add_kick!(hps::Vector{<:Real}) = GLOM_RV.add_kick_1λ!(hps)\n",
    "elseif kernel_name == \"qp\"\n",
    "    kernel_hyper_priors(hps::Vector{<:Real}, d::Integer) =\n",
    "        GLOM_RV.kernel_hyper_priors_qp(hps, d, [star_rot_rate, 2 * star_rot_rate, 1], [star_rot_rate / 2, star_rot_rate / 2, 0.4] ./ tighten_lengthscale_priors)\n",
    "    add_kick!(hps::Vector{<:Real}) = GLOM_RV.add_kick_qp!(hps)\n",
    "elseif kernel_name in [\"se_se\", \"m52_m52\"]\n",
    "    kernel_hyper_priors(hps::Vector{<:Real}, d::Integer) =\n",
    "        GLOM_RV.kernel_hyper_priors_2λ(hps, d, [star_rot_rate, 2 * star_rot_rate, 1], [star_rot_rate / 2, star_rot_rate / 2, 1] ./ tighten_lengthscale_priors)\n",
    "    add_kick!(hps::Vector{<:Real}) = GLOM_RV.add_kick_2λ!(hps)\n",
    "else\n",
    "    # kernel_hyper_priors(hps::Vector{<:Real}, d::Integer) = custom function\n",
    "end\n",
    "\n",
    "\n"
   ]
  },
  {
   "cell_type": "code",
   "execution_count": 17,
   "id": "unlikely-alignment",
   "metadata": {},
   "outputs": [
    {
     "name": "stdout",
     "output_type": "stream",
     "text": [
      "Array dimensions match, but the max dif (0.0032433779277449837) is greater than the threshold (1.002286236854138e-6)\n",
      "ridge size:          10^-3.1859810421297983\n",
      "max value of array:  10^0.5699664203766288\n"
     ]
    },
    {
     "name": "stderr",
     "output_type": "stream",
     "text": [
      "┌ Warning: added a ridge\n",
      "└ @ GPLinearODEMaker /Users/az/.julia/packages/GPLinearODEMaker/yxqPr/src/general_functions.jl:44\n"
     ]
    },
    {
     "name": "stdout",
     "output_type": "stream",
     "text": [
      "Array dimensions match, but the max dif (0.0032433779277450435) is greater than the threshold (2.310147483178908e-8)\n",
      "Array dimensions match, but the max dif (0.0032433779277450435) is greater than the threshold (1.0e-8)\n",
      "Array dimensions match, but the max dif (0.0032433779277450435) is greater than the threshold (1.0e-8)\n",
      "Array dimensions match, but the max dif (0.00035445851162266913) is greater than the threshold (2.243561117763855e-8)\n",
      "[1.0, 1.0, 1.0, 1.0, 1.0, 1.0, 27.0]\n",
      "Array dimensions match, but the max dif (0.0032433779277450435) is greater than the threshold (1.0e-8)\n",
      "Array dimensions match, but the max dif (0.0032433779277450435) is greater than the threshold (1.0e-8)\n",
      "Array dimensions match, but the max dif (0.00035445851162266913) is greater than the threshold (1.0e-8)\n",
      "Array dimensions match, but the max dif (0.00035445851162266913) is greater than the threshold (1.0e-8)\n",
      "Array dimensions match, but the max dif (0.00035445851162266913) is greater than the threshold (1.0e-8)\n",
      "Array dimensions match, but the max dif (5.1649094375724364e-5) is greater than the threshold (1.0e-8)\n",
      "\n",
      "Array dimensions match, but the max dif (0.002860189493062437) is greater than the threshold (1.6964846939915567e-6)\n",
      "Array dimensions match, but the max dif (0.002860189493062437) is greater than the threshold (1.6964846939915567e-6)\n",
      "retrying fit\n",
      "Array dimensions match, but the max dif (0.003533339279676975) is greater than the threshold (2.3009030541606794e-8)\n",
      "Array dimensions match, but the max dif (0.0026353698334650208) is greater than the threshold (1.0e-8)\n",
      "Array dimensions match, but the max dif (0.0026353698334650208) is greater than the threshold (1.0e-8)\n",
      "Array dimensions match, but the max dif (0.00031297342476961523) is greater than the threshold (3.802216819197481e-8)\n",
      "[1.3019150393408876, 0.9042570730337554, 0.9948856403612438, 0.8094862300695526, 1.0853085805045306, 1.030035377720056, 26.96558298999211]\n",
      "Array dimensions match, but the max dif (0.0032556079838919373) is greater than the threshold (1.0e-8)\n",
      "Array dimensions match, but the max dif (0.0032556079838919373) is greater than the threshold (1.0e-8)\n",
      "Array dimensions match, but the max dif (0.0003866321787125692) is greater than the threshold (1.0e-8)\n",
      "Array dimensions match, but the max dif (0.00028837275443277364) is greater than the threshold (1.0e-8)\n",
      "Array dimensions match, but the max dif (0.00028837275443277364) is greater than the threshold (1.0e-8)\n",
      "Array dimensions match, but the max dif (4.5661433348381276e-5) is greater than the threshold (1.0e-8)\n",
      "\n",
      "Array dimensions match, but the max dif (0.0007343643177688541) is greater than the threshold (1.748614343191266e-6)\n",
      "Array dimensions match, but the max dif (0.0007343643177688541) is greater than the threshold (1.748614343191266e-6)\n"
     ]
    },
    {
     "ename": "LoadError",
     "evalue": "MethodError: no method matching Σ_observations(::Array{Float64,2}, ::Array{Float64,1}; return_both=false)\nClosest candidates are:\n  Σ_observations(!Matched::Symmetric{T,Array{T,2}}, ::Array{T,1}; return_both, ignore_asymmetry) where T<:Real at /Users/az/.julia/packages/GPLinearODEMaker/yxqPr/src/gp_functions.jl:268\n  Σ_observations(!Matched::Function, ::Array{T,1}, !Matched::Array{T,1}, !Matched::Array{T,1}; ignore_asymmetry, return_both) where T<:Real at /Users/az/.julia/packages/GPLinearODEMaker/yxqPr/src/gp_functions.jl:303\n  Σ_observations(!Matched::GPLinearODEMaker.GLO, ::Array{T,1}; ignore_asymmetry, return_both) where T<:Real at /Users/az/.julia/packages/GPLinearODEMaker/yxqPr/src/gp_functions.jl:316",
     "output_type": "error",
     "traceback": [
      "MethodError: no method matching Σ_observations(::Array{Float64,2}, ::Array{Float64,1}; return_both=false)\nClosest candidates are:\n  Σ_observations(!Matched::Symmetric{T,Array{T,2}}, ::Array{T,1}; return_both, ignore_asymmetry) where T<:Real at /Users/az/.julia/packages/GPLinearODEMaker/yxqPr/src/gp_functions.jl:268\n  Σ_observations(!Matched::Function, ::Array{T,1}, !Matched::Array{T,1}, !Matched::Array{T,1}; ignore_asymmetry, return_both) where T<:Real at /Users/az/.julia/packages/GPLinearODEMaker/yxqPr/src/gp_functions.jl:303\n  Σ_observations(!Matched::GPLinearODEMaker.GLO, ::Array{T,1}; ignore_asymmetry, return_both) where T<:Real at /Users/az/.julia/packages/GPLinearODEMaker/yxqPr/src/gp_functions.jl:316",
      "",
      "Stacktrace:",
      " [1] Σ_observations(::GPLinearODEMaker.GLO{Float64,Int64}, ::Array{Float64,1}; ignore_asymmetry::Bool, return_both::Bool) at /Users/az/.julia/packages/GPLinearODEMaker/yxqPr/src/gp_functions.jl:323",
      " [2] Σ_observations at /Users/az/.julia/packages/GPLinearODEMaker/yxqPr/src/gp_functions.jl:323 [inlined]",
      " [3] calculate_shared_nlogL_matrices!(::GPLinearODEMaker.nlogL_matrix_workspace{Float64}, ::GPLinearODEMaker.GLO{Float64,Int64}, ::Array{Float64,1}) at /Users/az/.julia/packages/GPLinearODEMaker/yxqPr/src/gp_functions.jl:932",
      " [4] calculate_shared_∇nlogL_matrices!(::GPLinearODEMaker.nlogL_matrix_workspace{Float64}, ::GPLinearODEMaker.GLO{Float64,Int64}, ::Array{Float64,1}) at /Users/az/.julia/packages/GPLinearODEMaker/yxqPr/src/gp_functions.jl:958",
      " [5] ∇nlogL_GLOM!(::GPLinearODEMaker.nlogL_matrix_workspace{Float64}, ::GPLinearODEMaker.GLO{Float64,Int64}, ::Array{Float64,1}; y_obs::Array{Float64,1}) at /Users/az/.julia/packages/GPLinearODEMaker/yxqPr/src/gp_functions.jl:1062",
      " [6] (::GLOM_RV_Example.var\"#g!_helper#68\"{Array{Float64,1},GPLinearODEMaker.nlogL_matrix_workspace{Float64},GPLinearODEMaker.GLO{Float64,Int64}})(::Array{Float64,1}) at /Users/az/.julia/packages/GLOM_RV_Example/GMQUY/src/fit_GLOM_functions.jl:142",
      " [7] (::GLOM_RV_Example.var\"#g!#72\"{GPLinearODEMaker.GLO{Float64,Int64},typeof(kernel_hyper_priors),GLOM_RV_Example.var\"#g!_helper#68\"{Array{Float64,1},GPLinearODEMaker.nlogL_matrix_workspace{Float64},GPLinearODEMaker.GLO{Float64,Int64}}})(::Array{Float64,1}, ::Array{Float64,1}) at /Users/az/.julia/packages/GLOM_RV_Example/GMQUY/src/fit_GLOM_functions.jl:165",
      " [8] (::NLSolversBase.var\"#fg!#8\"{GLOM_RV_Example.var\"#f#71\"{Bool,GLOM_RV_Example.var\"#f_no_print#70\"{GPLinearODEMaker.GLO{Float64,Int64},typeof(kernel_hyper_priors),GLOM_RV_Example.var\"#f_no_print_helper#67\"{Array{Float64,1},GPLinearODEMaker.nlogL_matrix_workspace{Float64},GPLinearODEMaker.GLO{Float64,Int64}}}},GLOM_RV_Example.var\"#g!#72\"{GPLinearODEMaker.GLO{Float64,Int64},typeof(kernel_hyper_priors),GLOM_RV_Example.var\"#g!_helper#68\"{Array{Float64,1},GPLinearODEMaker.nlogL_matrix_workspace{Float64},GPLinearODEMaker.GLO{Float64,Int64}}}})(::Array{Float64,1}, ::Array{Float64,1}) at /Users/az/.julia/packages/NLSolversBase/QPnui/src/objective_types/abstract.jl:13",
      " [9] value_gradient!!(::NLSolversBase.TwiceDifferentiable{Float64,Array{Float64,1},Array{Float64,2},Array{Float64,1}}, ::Array{Float64,1}) at /Users/az/.julia/packages/NLSolversBase/QPnui/src/interface.jl:82",
      " [10] value_gradient! at /Users/az/.julia/packages/NLSolversBase/QPnui/src/interface.jl:69 [inlined]",
      " [11] update_state!(::NLSolversBase.TwiceDifferentiable{Float64,Array{Float64,1},Array{Float64,2},Array{Float64,1}}, ::Optim.NewtonTrustRegionState{Array{Float64,1},Float64,Array{Float64,1}}, ::Optim.NewtonTrustRegion{Float64}) at /Users/az/.julia/packages/Optim/Yd5Zq/src/multivariate/solvers/second_order/newton_trust_region.jl:335",
      " [12] optimize(::NLSolversBase.TwiceDifferentiable{Float64,Array{Float64,1},Array{Float64,2},Array{Float64,1}}, ::Array{Float64,1}, ::Optim.NewtonTrustRegion{Float64}, ::Optim.Options{Float64,GLOM_RV_Example.var\"#optim_cb_local#66\"{Bool}}, ::Optim.NewtonTrustRegionState{Array{Float64,1},Float64,Array{Float64,1}}) at /Users/az/.julia/packages/Optim/Yd5Zq/src/multivariate/optimize/optimize.jl:56",
      " [13] optimize at /Users/az/.julia/packages/Optim/Yd5Zq/src/multivariate/optimize/optimize.jl:33 [inlined]",
      " [14] optimize(::Function, ::Function, ::Function, ::Array{Float64,1}, ::Optim.NewtonTrustRegion{Float64}, ::Optim.Options{Float64,GLOM_RV_Example.var\"#optim_cb_local#66\"{Bool}}; inplace::Bool, autodiff::Symbol) at /Users/az/.julia/packages/Optim/Yd5Zq/src/multivariate/optimize/interface.jl:162",
      " [15] optimize(::Function, ::Function, ::Function, ::Array{Float64,1}, ::Optim.NewtonTrustRegion{Float64}, ::Optim.Options{Float64,GLOM_RV_Example.var\"#optim_cb_local#66\"{Bool}}) at /Users/az/.julia/packages/Optim/Yd5Zq/src/multivariate/optimize/interface.jl:160",
      " [16] fit_GLOM!(::GPLinearODEMaker.nlogL_matrix_workspace{Float64}, ::GPLinearODEMaker.GLO{Float64,Int64}, ::Array{Float64,1}, ::typeof(kernel_hyper_priors), ::typeof(add_kick!); g_tol::Float64, iterations::Int64, print_stuff::Bool, y_obs::Array{Float64,1}) at /Users/az/.julia/packages/GLOM_RV_Example/GMQUY/src/fit_GLOM_functions.jl:216",
      " [17] fit_GLOM!(::GPLinearODEMaker.nlogL_matrix_workspace{Float64}, ::GPLinearODEMaker.GLO{Float64,Int64}, ::Array{Float64,1}, ::Function, ::Function) at /Users/az/.julia/packages/GLOM_RV_Example/GMQUY/src/fit_GLOM_functions.jl:136",
      " [18] fit_GLOM(::GPLinearODEMaker.GLO{Float64,Int64}, ::Array{Float64,1}, ::Function, ::Function; kwargs::Base.Iterators.Pairs{Union{},Union{},Tuple{},NamedTuple{(),Tuple{}}}) at /Users/az/.julia/packages/GLOM_RV_Example/GMQUY/src/fit_GLOM_functions.jl:233",
      " [19] fit_GLOM(::GPLinearODEMaker.GLO{Float64,Int64}, ::Array{Float64,1}, ::Function, ::Function) at /Users/az/.julia/packages/GLOM_RV_Example/GMQUY/src/fit_GLOM_functions.jl:233",
      " [20] top-level scope at In[17]:1",
      " [21] include_string(::Function, ::Module, ::String, ::String) at ./loading.jl:1091",
      " [22] execute_code(::String, ::String) at /Users/az/.julia/packages/IJulia/rWZ9e/src/execute_request.jl:27",
      " [23] execute_request(::ZMQ.Socket, ::IJulia.Msg) at /Users/az/.julia/packages/IJulia/rWZ9e/src/execute_request.jl:86",
      " [24] #invokelatest#1 at ./essentials.jl:710 [inlined]",
      " [25] invokelatest at ./essentials.jl:709 [inlined]",
      " [26] eventloop(::ZMQ.Socket) at /Users/az/.julia/packages/IJulia/rWZ9e/src/eventloop.jl:8",
      " [27] (::IJulia.var\"#15#18\")() at ./task.jl:356"
     ]
    }
   ],
   "source": [
    "fit1_total_hyperparameters, result = GLOM_RV.fit_GLOM(problem_definition, initial_total_hyperparameters, kernel_hyper_priors, add_kick!)\n",
    "# fit_GLOM returns a vector of num_kernel_hyperparameters gp hyperparameters\n",
    "# followed by the GLOM coefficients and the Optim result object\n",
    "workspace = GLOM.nlogL_matrix_workspace(problem_definition, fit1_total_hyperparameters)"
   ]
  },
  {
   "cell_type": "code",
   "execution_count": 18,
   "id": "photographic-military",
   "metadata": {
    "scrolled": true
   },
   "outputs": [
    {
     "ename": "LoadError",
     "evalue": "UndefVarError: fit1_total_hyperparameters not defined",
     "output_type": "error",
     "traceback": [
      "UndefVarError: fit1_total_hyperparameters not defined",
      "",
      "Stacktrace:",
      " [1] top-level scope at In[18]:4",
      " [2] include_string(::Function, ::Module, ::String, ::String) at ./loading.jl:1091",
      " [3] execute_code(::String, ::String) at /Users/az/.julia/packages/IJulia/rWZ9e/src/execute_request.jl:27",
      " [4] execute_request(::ZMQ.Socket, ::IJulia.Msg) at /Users/az/.julia/packages/IJulia/rWZ9e/src/execute_request.jl:86",
      " [5] #invokelatest#1 at ./essentials.jl:710 [inlined]",
      " [6] invokelatest at ./essentials.jl:709 [inlined]",
      " [7] eventloop(::ZMQ.Socket) at /Users/az/.julia/packages/IJulia/rWZ9e/src/eventloop.jl:8",
      " [8] (::IJulia.var\"#15#18\")() at ./task.jl:356"
     ]
    }
   ],
   "source": [
    "## Plotting initial results\n",
    "\n",
    "plot_xs = collect(LinRange(obs_xs[1]-10, obs_xs[end]+10, 300))\n",
    "post, post_err, post_obs = GLOM_RV.GLOM_posteriors(problem_definition, plot_xs, fit1_total_hyperparameters)\n",
    "GLOM_rvs_at_plot_xs, GLOM_ind1_at_plot_xs, GLOM_ind2_at_plot_xs = post\n",
    "GLOM_rvs_err_at_plot_xs, GLOM_ind1_err_at_plot_xs, GLOM_ind2_err_at_plot_xs = post_err\n",
    "GLOM_rvs_at_obs_xs, GLOM_ind1_at_obs_xs, GLOM_ind2_at_obs_xs = post_obs"
   ]
  },
  {
   "cell_type": "code",
   "execution_count": 19,
   "id": "inappropriate-peoples",
   "metadata": {},
   "outputs": [
    {
     "data": {
      "text/plain": [
       "\"/Users/az/Documents/GitHub/GLOM_RV_Example/examples\""
      ]
     },
     "execution_count": 19,
     "metadata": {},
     "output_type": "execute_result"
    }
   ],
   "source": [
    "pwd()"
   ]
  },
  {
   "cell_type": "code",
   "execution_count": null,
   "id": "three-short",
   "metadata": {},
   "outputs": [],
   "source": []
  }
 ],
 "metadata": {
  "kernelspec": {
   "display_name": "Julia 1.5.1",
   "language": "julia",
   "name": "julia-1.5"
  },
  "language_info": {
   "file_extension": ".jl",
   "mimetype": "application/julia",
   "name": "julia",
   "version": "1.5.1"
  }
 },
 "nbformat": 4,
 "nbformat_minor": 5
}
