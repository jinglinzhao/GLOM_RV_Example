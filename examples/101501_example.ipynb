{
 "cells": [
  {
   "cell_type": "code",
   "execution_count": 1,
   "id": "stylish-bermuda",
   "metadata": {},
   "outputs": [
    {
     "name": "stdout",
     "output_type": "stream",
     "text": [
      "\u001b[?25l\u001b[2K\u001b[?25h"
     ]
    },
    {
     "name": "stderr",
     "output_type": "stream",
     "text": [
      "\u001b[32m\u001b[1m   Updating\u001b[22m\u001b[39m git-repo `/Users/az/Documents/GitHub/GLOM_RV_Example`\n",
      "\u001b[32m\u001b[1m   Updating\u001b[22m\u001b[39m registry at `~/.julia/registries/General`\n",
      "\u001b[32m\u001b[1m  Resolving\u001b[22m\u001b[39m package versions...\n",
      "\u001b[32m\u001b[1mNo Changes\u001b[22m\u001b[39m to `~/Documents/GitHub/GLOM_RV_Example/examples/Project.toml`\n",
      "\u001b[32m\u001b[1mNo Changes\u001b[22m\u001b[39m to `~/Documents/GitHub/GLOM_RV_Example/examples/Manifest.toml`\n"
     ]
    }
   ],
   "source": [
    "using Pkg\n",
    "Pkg.add(;path=\"/Users/az/Documents/GitHub/GLOM_RV_Example\")"
   ]
  },
  {
   "cell_type": "code",
   "execution_count": 2,
   "id": "institutional-breathing",
   "metadata": {},
   "outputs": [
    {
     "name": "stderr",
     "output_type": "stream",
     "text": [
      "\u001b[32m\u001b[1m Activating\u001b[22m\u001b[39m environment at `~/Documents/GitHub/GLOM_RV_Example/examples/examples/Project.toml`\n"
     ]
    }
   ],
   "source": [
    "\n",
    "Pkg.activate(\"examples\")\n",
    "Pkg.instantiate()"
   ]
  },
  {
   "cell_type": "code",
   "execution_count": 3,
   "id": "ordinary-lender",
   "metadata": {},
   "outputs": [
    {
     "name": "stderr",
     "output_type": "stream",
     "text": [
      "\u001b[32m\u001b[1m  Resolving\u001b[22m\u001b[39m package versions...\n",
      "\u001b[32m\u001b[1mNo Changes\u001b[22m\u001b[39m to `~/Documents/GitHub/GLOM_RV_Example/examples/examples/Project.toml`\n",
      "\u001b[32m\u001b[1mNo Changes\u001b[22m\u001b[39m to `~/Documents/GitHub/GLOM_RV_Example/examples/examples/Manifest.toml`\n"
     ]
    }
   ],
   "source": [
    "import Pkg; Pkg.add(\"CSV\")\n",
    "\n",
    "using Statistics\n",
    "\n",
    "# for det()\n",
    "using LinearAlgebra\n",
    "\n",
    "# for importing the data from CSV\n",
    "using DataFrames\n",
    "using CSV\n"
   ]
  },
  {
   "cell_type": "code",
   "execution_count": 4,
   "id": "pointed-mission",
   "metadata": {},
   "outputs": [
    {
     "data": {
      "text/plain": [
       "GPLinearODEMaker"
      ]
     },
     "execution_count": 4,
     "metadata": {},
     "output_type": "execute_result"
    }
   ],
   "source": [
    "# For GLOM\n",
    "# import Pkg; Pkg.add(\"GPLinearODEMaker\")\n",
    "import GPLinearODEMaker; GLOM = GPLinearODEMaker"
   ]
  },
  {
   "cell_type": "code",
   "execution_count": 5,
   "id": "plastic-interest",
   "metadata": {},
   "outputs": [
    {
     "data": {
      "text/plain": [
       "GLOM_RV_Example"
      ]
     },
     "execution_count": 5,
     "metadata": {},
     "output_type": "execute_result"
    }
   ],
   "source": [
    "# For this module\n",
    "using GLOM_RV_Example; GLOM_RV = GLOM_RV_Example"
   ]
  },
  {
   "cell_type": "code",
   "execution_count": 6,
   "id": "respective-savannah",
   "metadata": {},
   "outputs": [
    {
     "name": "stderr",
     "output_type": "stream",
     "text": [
      "\u001b[32m\u001b[1m  Resolving\u001b[22m\u001b[39m package versions...\n",
      "\u001b[32m\u001b[1mNo Changes\u001b[22m\u001b[39m to `~/Documents/GitHub/GLOM_RV_Example/examples/examples/Project.toml`\n",
      "\u001b[32m\u001b[1mNo Changes\u001b[22m\u001b[39m to `~/Documents/GitHub/GLOM_RV_Example/examples/examples/Manifest.toml`\n"
     ]
    }
   ],
   "source": [
    "# For units in orbit fitting functions\n",
    "import Pkg; Pkg.add(\"Unitful\")\n",
    "using UnitfulAstro, Unitful"
   ]
  },
  {
   "cell_type": "code",
   "execution_count": 7,
   "id": "skilled-fortune",
   "metadata": {},
   "outputs": [
    {
     "data": {
      "text/plain": [
       "(GPLinearODEMaker.m52_kernel, 1)"
      ]
     },
     "execution_count": 7,
     "metadata": {},
     "output_type": "execute_result"
    }
   ],
   "source": [
    "\n",
    "## Problem setup\n",
    "\n",
    "# CHANGE: choose a kernel, I suggest 3 for Matern 5/2 or 4 for Quasi-periodic\n",
    "# kernel\n",
    "kernel_choice = 3\n",
    "kernel_names = [\"pp\", \"se\", \"m52\", \"qp\", \"m52_m52\", \"se_se\"]\n",
    "kernel_name = kernel_names[kernel_choice]\n",
    "kernel_function, num_kernel_hyperparameters = GLOM.include_kernel(kernel_name)"
   ]
  },
  {
   "cell_type": "code",
   "execution_count": 8,
   "id": "static-crest",
   "metadata": {},
   "outputs": [
    {
     "data": {
      "text/plain": [
       "44-element Array{Float64,1}:\n",
       " -269.2213392585909\n",
       " -269.2079564661908\n",
       " -269.19584069718985\n",
       " -269.19022286658947\n",
       " -269.1841134480892\n",
       " -234.42786105518826\n",
       " -234.42343912379147\n",
       " -234.41909104769002\n",
       " -193.37810670998806\n",
       " -187.37832593588973\n",
       " -185.377775409288\n",
       " -184.34866100998988\n",
       " -177.44040562718874\n",
       "    ⋮\n",
       "  234.46323363490956\n",
       "  234.4661339899103\n",
       "  234.4693607798108\n",
       "  236.49587611011157\n",
       "  236.50828411771\n",
       "  236.5199178333096\n",
       "  237.46599602491187\n",
       "  237.47044131001167\n",
       "  237.47468347791073\n",
       "  239.4646463973113\n",
       "  239.46659213601015\n",
       "  239.4703088426104"
      ]
     },
     "execution_count": 8,
     "metadata": {},
     "output_type": "execute_result"
    }
   ],
   "source": [
    "# CHANGE: the stars rotation rate which is used as the first guess for some GLOM\n",
    "# hyperparameters and starting point for priors\n",
    "star_rot_rate = 16.28  # days\n",
    "\n",
    "# importing Yale's 101501 data\n",
    "data = CSV.read(\"101501_activity.csv\", DataFrame)\n",
    "\n",
    "# CHANGE: observation times go here\n",
    "obs_xs = collect(data[!, \"Time [MJD]\"])\n",
    "# taking out the mean observation times makes the optimization easier for models\n",
    "# with periodic parameters\n",
    "GLOM_RV.remove_mean!(obs_xs)"
   ]
  },
  {
   "cell_type": "code",
   "execution_count": 9,
   "id": "environmental-broad",
   "metadata": {},
   "outputs": [
    {
     "data": {
      "text/plain": [
       "44-element Array{Float64,1}:\n",
       " 0.26936\n",
       " 0.82565\n",
       " 0.25805\n",
       " 0.26118\n",
       " 0.25812\n",
       " 0.34265\n",
       " 0.3395\n",
       " 0.35351\n",
       " 0.26193\n",
       " 0.21608\n",
       " 0.21339\n",
       " 0.30804\n",
       " 0.24111\n",
       " ⋮\n",
       " 0.31966\n",
       " 0.32052\n",
       " 0.32098\n",
       " 0.43579\n",
       " 0.3187\n",
       " 0.32022\n",
       " 0.32468\n",
       " 0.33428\n",
       " 0.33553\n",
       " 0.31059\n",
       " 0.31428\n",
       " 0.31377"
      ]
     },
     "execution_count": 9,
     "metadata": {},
     "output_type": "execute_result"
    }
   ],
   "source": [
    "# CHANGE: rvs and their errors go here\n",
    "obs_rvs = data[!, \"CCF RV [m/s]\"]\n",
    "inject_ks = GLOM_RV.kep_signal(; K=50u\"m/s\", P=sqrt(2)*5u\"d\", M0=rand()*2*π, ω_or_k=rand()*2*π, e_or_h=0.1)\n",
    "obs_rvs[:] .+= ustrip.(inject_ks.(obs_xs.*u\"d\"))\n",
    "obs_rvs_err = data[!, \"CCF RV Error [m/s]\"]"
   ]
  },
  {
   "cell_type": "code",
   "execution_count": 10,
   "id": "toxic-aspect",
   "metadata": {},
   "outputs": [
    {
     "data": {
      "text/plain": [
       "44-element Array{Float64,1}:\n",
       " 10.252322870488586\n",
       " 10.252322870488586\n",
       " 10.252322870488586\n",
       " 10.252322870488586\n",
       " 10.252322870488586\n",
       " 10.252322870488586\n",
       " 10.252322870488586\n",
       " 10.252322870488586\n",
       " 10.252322870488586\n",
       " 10.252322870488586\n",
       " 10.252322870488586\n",
       " 10.252322870488586\n",
       " 10.252322870488586\n",
       "  ⋮\n",
       " 10.252322870488586\n",
       " 10.252322870488586\n",
       " 10.252322870488586\n",
       " 10.252322870488586\n",
       " 10.252322870488586\n",
       " 10.252322870488586\n",
       " 10.252322870488586\n",
       " 10.252322870488586\n",
       " 10.252322870488586\n",
       " 10.252322870488586\n",
       " 10.252322870488586\n",
       " 10.252322870488586"
      ]
     },
     "execution_count": 10,
     "metadata": {},
     "output_type": "execute_result"
    }
   ],
   "source": [
    "# CHANGE: activity indicators and thier errors go here\n",
    "# you can actually have as many as you want, but obviously it will take longer\n",
    "# to fit\n",
    "obs_indicator1 = data[!, \"CCF FWHM [m/s]\"]\n",
    "obs_indicator1_err = data[!, \"CCF FWHM Err. [m/s]\"]\n",
    "obs_indicator2 = data[!, \"BIS [m/s]\"]\n",
    "obs_indicator2_err = repeat([std(obs_indicator2)], length(obs_indicator2))  # I just put something here\n"
   ]
  },
  {
   "cell_type": "code",
   "execution_count": 11,
   "id": "other-innocent",
   "metadata": {},
   "outputs": [
    {
     "data": {
      "text/plain": [
       "44-element Array{Float64,1}:\n",
       "  -8.422655705644182\n",
       "  -4.754837654014075\n",
       "  -7.332458207144278\n",
       "  -7.434779861995274\n",
       "  -6.923625532782985\n",
       " -15.087346115699482\n",
       " -13.269319910469385\n",
       " -13.864474880708876\n",
       "  26.653436251744424\n",
       "  -9.172527194707676\n",
       "  -5.764498492557074\n",
       "  -1.7898246517967848\n",
       "  23.605814906886117\n",
       "   ⋮\n",
       "  -4.929626857433185\n",
       "  -3.8037417140264793\n",
       "  -3.9819511485553747\n",
       "  -0.5186597054477815\n",
       "   0.11694401814592226\n",
       "   0.18717887620672258\n",
       "  -7.97642490141758\n",
       "  -7.915982666037685\n",
       "  -9.576468440242685\n",
       "  -7.6600565301120795\n",
       "  -6.019500402399579\n",
       "  -6.6842541475968815"
      ]
     },
     "execution_count": 11,
     "metadata": {},
     "output_type": "execute_result"
    }
   ],
   "source": [
    "# removing means as the GP model assumes zero mean\n",
    "GLOM_RV.remove_mean!(obs_rvs)\n",
    "GLOM_RV.remove_mean!(obs_indicator1)\n",
    "GLOM_RV.remove_mean!(obs_indicator2)"
   ]
  },
  {
   "cell_type": "code",
   "execution_count": 12,
   "id": "severe-bottle",
   "metadata": {},
   "outputs": [
    {
     "data": {
      "text/plain": [
       "132-element Array{Float64,1}:\n",
       "  0.26936\n",
       " 41.0664677798099\n",
       " 10.252322870488586\n",
       "  0.82565\n",
       " 42.5939468151545\n",
       " 10.252322870488586\n",
       "  0.25805\n",
       " 40.951629354073\n",
       " 10.252322870488586\n",
       "  0.26118\n",
       " 40.970265403941\n",
       " 10.252322870488586\n",
       "  0.25812\n",
       "  ⋮\n",
       "  0.33553\n",
       " 40.5159586937557\n",
       " 10.252322870488586\n",
       "  0.31059\n",
       " 40.7087102555426\n",
       " 10.252322870488586\n",
       "  0.31428\n",
       " 40.5911287592448\n",
       " 10.252322870488586\n",
       "  0.31377\n",
       " 40.6561879107426\n",
       " 10.252322870488586"
      ]
     },
     "execution_count": 12,
     "metadata": {},
     "output_type": "execute_result"
    }
   ],
   "source": [
    "# CHANGE: change these lines if you add more than 2 indicators\n",
    "# this takes the data and riffles it together so it takes the form\n",
    "# [rv_1, ind1_1, ind2_1, rv_2, ind1_2, ind2_2, ...]\n",
    "n_out = 3  # number of indicators + 1\n",
    "obs_ys = collect(Iterators.flatten(zip(obs_rvs, obs_indicator1, obs_indicator2)))\n",
    "obs_noise = collect(Iterators.flatten(zip(obs_rvs_err, obs_indicator1_err, obs_indicator2_err)))\n"
   ]
  },
  {
   "cell_type": "code",
   "execution_count": 13,
   "id": "suitable-niagara",
   "metadata": {},
   "outputs": [
    {
     "data": {
      "text/plain": [
       "3"
      ]
     },
     "execution_count": 13,
     "metadata": {},
     "output_type": "execute_result"
    }
   ],
   "source": [
    "# How many differention orders we want in the GLOM model\n",
    "n_dif = 2 + 1"
   ]
  },
  {
   "cell_type": "code",
   "execution_count": 14,
   "id": "checked-principle",
   "metadata": {},
   "outputs": [],
   "source": [
    "# CHANGE: consider changing a0 (the GLOM coefficients that are used, see\n",
    "# commented lines below)\n",
    "# If all a's active:\n",
    "problem_definition = GLOM.GLO(kernel_function, num_kernel_hyperparameters, n_dif, n_out, obs_xs, copy(obs_ys); noise=copy(obs_noise), a0=[[1. 1 1];[1 1 1];[1 1 1]])\n",
    "# problem_definition = GLOM.GLO(kernel_function, num_kernel_hyperparameters, n_dif, n_out, obs_xs, copy(obs_ys); noise=copy(obs_noise), a0=[[1. 1 0];[1 0 1];[1 0 1]])\n",
    "\n",
    "# Makes the std of each output equal to 1, improves fitting stability\n",
    "# the normalizations are stored in problem_definition.normals\n",
    "GLOM.normalize_problem_definition!(problem_definition)"
   ]
  },
  {
   "cell_type": "code",
   "execution_count": 15,
   "id": "enhanced-associate",
   "metadata": {},
   "outputs": [
    {
     "data": {
      "text/plain": [
       "10-element Array{Float64,1}:\n",
       "  1.0\n",
       "  1.0\n",
       "  1.0\n",
       "  1.0\n",
       "  1.0\n",
       "  1.0\n",
       "  1.0\n",
       "  1.0\n",
       "  1.0\n",
       " 16.28"
      ]
     },
     "execution_count": 15,
     "metadata": {},
     "output_type": "execute_result"
    }
   ],
   "source": [
    "# CHANGE: Setting initial fit values\n",
    "initial_total_hyperparameters = collect(Iterators.flatten(problem_definition.a0))\n",
    "initial_hypers = [[star_rot_rate], [star_rot_rate], [star_rot_rate], [star_rot_rate, 2 * star_rot_rate, 1], [star_rot_rate, 2 * star_rot_rate, 1], [star_rot_rate, 2 * star_rot_rate, 1]]\n",
    "append!(initial_total_hyperparameters, initial_hypers[kernel_choice])"
   ]
  },
  {
   "cell_type": "code",
   "execution_count": 16,
   "id": "dirty-racing",
   "metadata": {},
   "outputs": [
    {
     "data": {
      "text/plain": [
       "add_kick! (generic function with 1 method)"
      ]
     },
     "execution_count": 16,
     "metadata": {},
     "output_type": "execute_result"
    }
   ],
   "source": [
    "## Fitting GLOM Model\n",
    "\n",
    "# CHANGE: Setting kernel hyperparameter priors and kick function\n",
    "# kick functions help avoid saddle points\n",
    "tighten_lengthscale_priors = 3\n",
    "if kernel_name in [\"pp\", \"se\", \"m52\"]\n",
    "    kernel_hyper_priors(hps::Vector{<:Real}, d::Integer) =\n",
    "        GLOM_RV.kernel_hyper_priors_1λ(hps, d, star_rot_rate, star_rot_rate / 2 / tighten_lengthscale_priors)\n",
    "    add_kick!(hps::Vector{<:Real}) = GLOM_RV.add_kick_1λ!(hps)\n",
    "elseif kernel_name == \"qp\"\n",
    "    kernel_hyper_priors(hps::Vector{<:Real}, d::Integer) =\n",
    "        GLOM_RV.kernel_hyper_priors_qp(hps, d, [star_rot_rate, 2 * star_rot_rate, 1], [star_rot_rate / 2, star_rot_rate / 2, 0.4] ./ tighten_lengthscale_priors)\n",
    "    add_kick!(hps::Vector{<:Real}) = GLOM_RV.add_kick_qp!(hps)\n",
    "elseif kernel_name in [\"se_se\", \"m52_m52\"]\n",
    "    kernel_hyper_priors(hps::Vector{<:Real}, d::Integer) =\n",
    "        GLOM_RV.kernel_hyper_priors_2λ(hps, d, [star_rot_rate, 2 * star_rot_rate, 1], [star_rot_rate / 2, star_rot_rate / 2, 1] ./ tighten_lengthscale_priors)\n",
    "    add_kick!(hps::Vector{<:Real}) = GLOM_RV.add_kick_2λ!(hps)\n",
    "else\n",
    "    # kernel_hyper_priors(hps::Vector{<:Real}, d::Integer) = custom function\n",
    "end\n",
    "\n",
    "\n"
   ]
  },
  {
   "cell_type": "code",
   "execution_count": 17,
   "id": "familiar-harvey",
   "metadata": {},
   "outputs": [
    {
     "name": "stdout",
     "output_type": "stream",
     "text": [
      "ridge size:          10^-2.5185404283187425\n",
      "max value of array:  10^0.5943641512174932\n"
     ]
    },
    {
     "name": "stderr",
     "output_type": "stream",
     "text": [
      "┌ Warning: added a ridge\n",
      "└ @ GPLinearODEMaker /Users/az/.julia/packages/GPLinearODEMaker/yxqPr/src/general_functions.jl:44\n"
     ]
    },
    {
     "name": "stdout",
     "output_type": "stream",
     "text": [
      "Array dimensions match, but the max dif (0.015544103545590696) is greater than the threshold (3.8303052483260783e-8)\n",
      "Array dimensions match, but the max dif (0.015544103545590696) is greater than the threshold (3.8303052483260783e-8)\n",
      "Array dimensions match, but the max dif (0.015544103545590696) is greater than the threshold (3.8303052483260783e-8)\n",
      "Array dimensions match, but the max dif (0.015544103545590694) is greater than the threshold (1.863064045948219e-8)\n",
      "Array dimensions match, but the max dif (0.015544103545590694) is greater than the threshold (1.863064045948219e-8)\n",
      "Array dimensions match, but the max dif (0.015544103545590694) is greater than the threshold (1.863064045948219e-8)\n",
      "[1.0, 1.0, 1.0, 1.0, 1.0, 1.0, 1.0, 1.0, 1.0, 16.28]\n",
      "Array dimensions match, but the max dif (0.015544103545590694) is greater than the threshold (1.5544795778382967e-8)\n",
      "Array dimensions match, but the max dif (0.015544103545590694) is greater than the threshold (1.5544795778382967e-8)\n",
      "Array dimensions match, but the max dif (0.0028642224407580312) is greater than the threshold (1.0e-8)\n",
      "Array dimensions match, but the max dif (0.015544103545590694) is greater than the threshold (1.5544795778382967e-8)\n",
      "Array dimensions match, but the max dif (0.015544103545590694) is greater than the threshold (1.5544795778382967e-8)\n",
      "Array dimensions match, but the max dif (0.0028642224407580312) is greater than the threshold (1.0e-8)\n",
      "Array dimensions match, but the max dif (0.015544103545590694) is greater than the threshold (1.5544795778382967e-8)\n",
      "Array dimensions match, but the max dif (0.015544103545590694) is greater than the threshold (1.5544795778382967e-8)\n",
      "Array dimensions match, but the max dif (0.0028642224407580312) is greater than the threshold (1.0e-8)\n",
      "Array dimensions match, but the max dif (0.0028642224407580317) is greater than the threshold (1.0e-8)\n",
      "Array dimensions match, but the max dif (0.0028642224407580317) is greater than the threshold (1.0e-8)\n",
      "Array dimensions match, but the max dif (0.0028642224407580317) is greater than the threshold (1.0e-8)\n",
      "\n",
      "Array dimensions match, but the max dif (0.006183932071845755) is greater than the threshold (2.7355441337573116e-6)\n",
      "Array dimensions match, but the max dif (0.006183932071845755) is greater than the threshold (2.7355441337573116e-6)\n",
      "retrying fit\n",
      "Array dimensions match, but the max dif (0.01838046365220385) is greater than the threshold (3.883436370823528e-8)\n",
      "Array dimensions match, but the max dif (0.01838046365220385) is greater than the threshold (6.489945719105004e-8)\n",
      "Array dimensions match, but the max dif (0.018061368347035957) is greater than the threshold (6.489945719105004e-8)\n",
      "Array dimensions match, but the max dif (0.014855389845582108) is greater than the threshold (2.1120836410520138e-8)\n",
      "Array dimensions match, but the max dif (0.013850296869522901) is greater than the threshold (1.652250700289403e-8)\n",
      "Array dimensions match, but the max dif (0.014855389845582108) is greater than the threshold (1.7510884005133744e-8)\n",
      "Array dimensions match, but the max dif (0.001165329141425816) is greater than the threshold (1.0364657994140508e-7)\n",
      "[1.6586908619585738, 0.9822788280977933, 0.995050124973455, 0.3944506897072291, 0.8934903577954763, 0.8330381655520037, 0.8958533846453232, 1.0863167264148426, 1.1055089914007463, 15.918824000817311]\n",
      "Array dimensions match, but the max dif (0.016626245281745465) is greater than the threshold (1.6627002502196667e-8)\n",
      "Array dimensions match, but the max dif (0.016626245281745465) is greater than the threshold (1.6627002502196667e-8)\n",
      "Array dimensions match, but the max dif (0.0034637007130703616) is greater than the threshold (1.0e-8)\n",
      "Array dimensions match, but the max dif (0.016626245281745465) is greater than the threshold (1.6627002502196667e-8)\n",
      "Array dimensions match, but the max dif (0.016626245281745465) is greater than the threshold (1.6627002502196667e-8)\n",
      "Array dimensions match, but the max dif (0.0034637007130703616) is greater than the threshold (1.0e-8)\n",
      "Array dimensions match, but the max dif (0.016626245281745465) is greater than the threshold (1.6627002502196667e-8)\n",
      "Array dimensions match, but the max dif (0.016626245281745465) is greater than the threshold (1.6627002502196667e-8)\n",
      "Array dimensions match, but the max dif (0.003403568898282604) is greater than the threshold (1.0e-8)\n",
      "Array dimensions match, but the max dif (0.002799419284230703) is greater than the threshold (1.0e-8)\n",
      "Array dimensions match, but the max dif (0.0026100148533222986) is greater than the threshold (1.0e-8)\n",
      "Array dimensions match, but the max dif (0.002799419284230703) is greater than the threshold (1.0e-8)\n",
      "Array dimensions match, but the max dif (0.0002928001131029082) is greater than the threshold (1.0e-8)\n",
      "\n",
      "Array dimensions match, but the max dif (0.001016527552260893) is greater than the threshold (2.8917639157327954e-6)\n",
      "Array dimensions match, but the max dif (0.001016527552260893) is greater than the threshold (2.8917639157327954e-6)\n"
     ]
    },
    {
     "ename": "LoadError",
     "evalue": "MethodError: no method matching Σ_observations(::Array{Float64,2}, ::Array{Float64,1}; return_both=false)\nClosest candidates are:\n  Σ_observations(!Matched::Symmetric{T,Array{T,2}}, ::Array{T,1}; return_both, ignore_asymmetry) where T<:Real at /Users/az/.julia/packages/GPLinearODEMaker/yxqPr/src/gp_functions.jl:268\n  Σ_observations(!Matched::Function, ::Array{T,1}, !Matched::Array{T,1}, !Matched::Array{T,1}; ignore_asymmetry, return_both) where T<:Real at /Users/az/.julia/packages/GPLinearODEMaker/yxqPr/src/gp_functions.jl:303\n  Σ_observations(!Matched::GPLinearODEMaker.GLO, ::Array{T,1}; ignore_asymmetry, return_both) where T<:Real at /Users/az/.julia/packages/GPLinearODEMaker/yxqPr/src/gp_functions.jl:316",
     "output_type": "error",
     "traceback": [
      "MethodError: no method matching Σ_observations(::Array{Float64,2}, ::Array{Float64,1}; return_both=false)\nClosest candidates are:\n  Σ_observations(!Matched::Symmetric{T,Array{T,2}}, ::Array{T,1}; return_both, ignore_asymmetry) where T<:Real at /Users/az/.julia/packages/GPLinearODEMaker/yxqPr/src/gp_functions.jl:268\n  Σ_observations(!Matched::Function, ::Array{T,1}, !Matched::Array{T,1}, !Matched::Array{T,1}; ignore_asymmetry, return_both) where T<:Real at /Users/az/.julia/packages/GPLinearODEMaker/yxqPr/src/gp_functions.jl:303\n  Σ_observations(!Matched::GPLinearODEMaker.GLO, ::Array{T,1}; ignore_asymmetry, return_both) where T<:Real at /Users/az/.julia/packages/GPLinearODEMaker/yxqPr/src/gp_functions.jl:316",
      "",
      "Stacktrace:",
      " [1] Σ_observations(::GPLinearODEMaker.GLO{Float64,Int64}, ::Array{Float64,1}; ignore_asymmetry::Bool, return_both::Bool) at /Users/az/.julia/packages/GPLinearODEMaker/yxqPr/src/gp_functions.jl:323",
      " [2] Σ_observations at /Users/az/.julia/packages/GPLinearODEMaker/yxqPr/src/gp_functions.jl:323 [inlined]",
      " [3] calculate_shared_nlogL_matrices!(::GPLinearODEMaker.nlogL_matrix_workspace{Float64}, ::GPLinearODEMaker.GLO{Float64,Int64}, ::Array{Float64,1}) at /Users/az/.julia/packages/GPLinearODEMaker/yxqPr/src/gp_functions.jl:932",
      " [4] calculate_shared_∇nlogL_matrices!(::GPLinearODEMaker.nlogL_matrix_workspace{Float64}, ::GPLinearODEMaker.GLO{Float64,Int64}, ::Array{Float64,1}) at /Users/az/.julia/packages/GPLinearODEMaker/yxqPr/src/gp_functions.jl:958",
      " [5] ∇nlogL_GLOM!(::GPLinearODEMaker.nlogL_matrix_workspace{Float64}, ::GPLinearODEMaker.GLO{Float64,Int64}, ::Array{Float64,1}; y_obs::Array{Float64,1}) at /Users/az/.julia/packages/GPLinearODEMaker/yxqPr/src/gp_functions.jl:1062",
      " [6] (::GLOM_RV_Example.var\"#g!_helper#68\"{Array{Float64,1},GPLinearODEMaker.nlogL_matrix_workspace{Float64},GPLinearODEMaker.GLO{Float64,Int64}})(::Array{Float64,1}) at /Users/az/.julia/packages/GLOM_RV_Example/GMQUY/src/fit_GLOM_functions.jl:142",
      " [7] (::GLOM_RV_Example.var\"#g!#72\"{GPLinearODEMaker.GLO{Float64,Int64},typeof(kernel_hyper_priors),GLOM_RV_Example.var\"#g!_helper#68\"{Array{Float64,1},GPLinearODEMaker.nlogL_matrix_workspace{Float64},GPLinearODEMaker.GLO{Float64,Int64}}})(::Array{Float64,1}, ::Array{Float64,1}) at /Users/az/.julia/packages/GLOM_RV_Example/GMQUY/src/fit_GLOM_functions.jl:165",
      " [8] (::NLSolversBase.var\"#fg!#8\"{GLOM_RV_Example.var\"#f#71\"{Bool,GLOM_RV_Example.var\"#f_no_print#70\"{GPLinearODEMaker.GLO{Float64,Int64},typeof(kernel_hyper_priors),GLOM_RV_Example.var\"#f_no_print_helper#67\"{Array{Float64,1},GPLinearODEMaker.nlogL_matrix_workspace{Float64},GPLinearODEMaker.GLO{Float64,Int64}}}},GLOM_RV_Example.var\"#g!#72\"{GPLinearODEMaker.GLO{Float64,Int64},typeof(kernel_hyper_priors),GLOM_RV_Example.var\"#g!_helper#68\"{Array{Float64,1},GPLinearODEMaker.nlogL_matrix_workspace{Float64},GPLinearODEMaker.GLO{Float64,Int64}}}})(::Array{Float64,1}, ::Array{Float64,1}) at /Users/az/.julia/packages/NLSolversBase/QPnui/src/objective_types/abstract.jl:13",
      " [9] value_gradient!!(::NLSolversBase.TwiceDifferentiable{Float64,Array{Float64,1},Array{Float64,2},Array{Float64,1}}, ::Array{Float64,1}) at /Users/az/.julia/packages/NLSolversBase/QPnui/src/interface.jl:82",
      " [10] value_gradient! at /Users/az/.julia/packages/NLSolversBase/QPnui/src/interface.jl:69 [inlined]",
      " [11] update_state!(::NLSolversBase.TwiceDifferentiable{Float64,Array{Float64,1},Array{Float64,2},Array{Float64,1}}, ::Optim.NewtonTrustRegionState{Array{Float64,1},Float64,Array{Float64,1}}, ::Optim.NewtonTrustRegion{Float64}) at /Users/az/.julia/packages/Optim/Yd5Zq/src/multivariate/solvers/second_order/newton_trust_region.jl:335",
      " [12] optimize(::NLSolversBase.TwiceDifferentiable{Float64,Array{Float64,1},Array{Float64,2},Array{Float64,1}}, ::Array{Float64,1}, ::Optim.NewtonTrustRegion{Float64}, ::Optim.Options{Float64,GLOM_RV_Example.var\"#optim_cb_local#66\"{Bool}}, ::Optim.NewtonTrustRegionState{Array{Float64,1},Float64,Array{Float64,1}}) at /Users/az/.julia/packages/Optim/Yd5Zq/src/multivariate/optimize/optimize.jl:56",
      " [13] optimize at /Users/az/.julia/packages/Optim/Yd5Zq/src/multivariate/optimize/optimize.jl:33 [inlined]",
      " [14] optimize(::Function, ::Function, ::Function, ::Array{Float64,1}, ::Optim.NewtonTrustRegion{Float64}, ::Optim.Options{Float64,GLOM_RV_Example.var\"#optim_cb_local#66\"{Bool}}; inplace::Bool, autodiff::Symbol) at /Users/az/.julia/packages/Optim/Yd5Zq/src/multivariate/optimize/interface.jl:162",
      " [15] optimize(::Function, ::Function, ::Function, ::Array{Float64,1}, ::Optim.NewtonTrustRegion{Float64}, ::Optim.Options{Float64,GLOM_RV_Example.var\"#optim_cb_local#66\"{Bool}}) at /Users/az/.julia/packages/Optim/Yd5Zq/src/multivariate/optimize/interface.jl:160",
      " [16] fit_GLOM!(::GPLinearODEMaker.nlogL_matrix_workspace{Float64}, ::GPLinearODEMaker.GLO{Float64,Int64}, ::Array{Float64,1}, ::typeof(kernel_hyper_priors), ::typeof(add_kick!); g_tol::Float64, iterations::Int64, print_stuff::Bool, y_obs::Array{Float64,1}) at /Users/az/.julia/packages/GLOM_RV_Example/GMQUY/src/fit_GLOM_functions.jl:216",
      " [17] fit_GLOM!(::GPLinearODEMaker.nlogL_matrix_workspace{Float64}, ::GPLinearODEMaker.GLO{Float64,Int64}, ::Array{Float64,1}, ::Function, ::Function) at /Users/az/.julia/packages/GLOM_RV_Example/GMQUY/src/fit_GLOM_functions.jl:136",
      " [18] fit_GLOM(::GPLinearODEMaker.GLO{Float64,Int64}, ::Array{Float64,1}, ::Function, ::Function; kwargs::Base.Iterators.Pairs{Union{},Union{},Tuple{},NamedTuple{(),Tuple{}}}) at /Users/az/.julia/packages/GLOM_RV_Example/GMQUY/src/fit_GLOM_functions.jl:233",
      " [19] fit_GLOM(::GPLinearODEMaker.GLO{Float64,Int64}, ::Array{Float64,1}, ::Function, ::Function) at /Users/az/.julia/packages/GLOM_RV_Example/GMQUY/src/fit_GLOM_functions.jl:233",
      " [20] top-level scope at In[17]:1",
      " [21] include_string(::Function, ::Module, ::String, ::String) at ./loading.jl:1091",
      " [22] execute_code(::String, ::String) at /Users/az/.julia/packages/IJulia/rWZ9e/src/execute_request.jl:27",
      " [23] execute_request(::ZMQ.Socket, ::IJulia.Msg) at /Users/az/.julia/packages/IJulia/rWZ9e/src/execute_request.jl:86",
      " [24] #invokelatest#1 at ./essentials.jl:710 [inlined]",
      " [25] invokelatest at ./essentials.jl:709 [inlined]",
      " [26] eventloop(::ZMQ.Socket) at /Users/az/.julia/packages/IJulia/rWZ9e/src/eventloop.jl:8",
      " [27] (::IJulia.var\"#15#18\")() at ./task.jl:356"
     ]
    }
   ],
   "source": [
    "fit1_total_hyperparameters, result = GLOM_RV.fit_GLOM(problem_definition, initial_total_hyperparameters, kernel_hyper_priors, add_kick!)\n",
    "# fit_GLOM returns a vector of num_kernel_hyperparameters gp hyperparameters\n",
    "# followed by the GLOM coefficients and the Optim result object\n",
    "workspace = GLOM.nlogL_matrix_workspace(problem_definition, fit1_total_hyperparameters)"
   ]
  },
  {
   "cell_type": "code",
   "execution_count": 18,
   "id": "adequate-genome",
   "metadata": {
    "scrolled": true
   },
   "outputs": [
    {
     "ename": "LoadError",
     "evalue": "UndefVarError: fit1_total_hyperparameters not defined",
     "output_type": "error",
     "traceback": [
      "UndefVarError: fit1_total_hyperparameters not defined",
      "",
      "Stacktrace:",
      " [1] top-level scope at In[18]:4",
      " [2] include_string(::Function, ::Module, ::String, ::String) at ./loading.jl:1091",
      " [3] execute_code(::String, ::String) at /Users/az/.julia/packages/IJulia/rWZ9e/src/execute_request.jl:27",
      " [4] execute_request(::ZMQ.Socket, ::IJulia.Msg) at /Users/az/.julia/packages/IJulia/rWZ9e/src/execute_request.jl:86",
      " [5] #invokelatest#1 at ./essentials.jl:710 [inlined]",
      " [6] invokelatest at ./essentials.jl:709 [inlined]",
      " [7] eventloop(::ZMQ.Socket) at /Users/az/.julia/packages/IJulia/rWZ9e/src/eventloop.jl:8",
      " [8] (::IJulia.var\"#15#18\")() at ./task.jl:356"
     ]
    }
   ],
   "source": [
    "## Plotting initial results\n",
    "\n",
    "plot_xs = collect(LinRange(obs_xs[1]-10, obs_xs[end]+10, 300))\n",
    "post, post_err, post_obs = GLOM_RV.GLOM_posteriors(problem_definition, plot_xs, fit1_total_hyperparameters)\n",
    "GLOM_rvs_at_plot_xs, GLOM_ind1_at_plot_xs, GLOM_ind2_at_plot_xs = post\n",
    "GLOM_rvs_err_at_plot_xs, GLOM_ind1_err_at_plot_xs, GLOM_ind2_err_at_plot_xs = post_err\n",
    "GLOM_rvs_at_obs_xs, GLOM_ind1_at_obs_xs, GLOM_ind2_at_obs_xs = post_obs"
   ]
  },
  {
   "cell_type": "code",
   "execution_count": 27,
   "id": "boring-toddler",
   "metadata": {},
   "outputs": [
    {
     "data": {
      "text/plain": [
       "-36.223354068663866"
      ]
     },
     "execution_count": 27,
     "metadata": {},
     "output_type": "execute_result"
    }
   ],
   "source": [
    "obs_rvs[1]"
   ]
  },
  {
   "cell_type": "code",
   "execution_count": null,
   "id": "limiting-croatia",
   "metadata": {},
   "outputs": [],
   "source": []
  }
 ],
 "metadata": {
  "kernelspec": {
   "display_name": "Julia 1.5.1",
   "language": "julia",
   "name": "julia-1.5"
  },
  "language_info": {
   "file_extension": ".jl",
   "mimetype": "application/julia",
   "name": "julia",
   "version": "1.5.1"
  }
 },
 "nbformat": 4,
 "nbformat_minor": 5
}
