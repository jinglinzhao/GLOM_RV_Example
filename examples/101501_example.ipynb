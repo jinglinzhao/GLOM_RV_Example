{
 "cells": [
  {
   "cell_type": "code",
   "execution_count": 1,
   "id": "alpine-sharp",
   "metadata": {},
   "outputs": [
    {
     "name": "stdout",
     "output_type": "stream",
     "text": [
      "\u001b[?25l    "
     ]
    },
    {
     "name": "stderr",
     "output_type": "stream",
     "text": [
      "\u001b[32m\u001b[1m   Updating\u001b[22m\u001b[39m git-repo `/Users/az/Documents/GitHub/GLOM_RV_Example`\n"
     ]
    },
    {
     "name": "stdout",
     "output_type": "stream",
     "text": [
      "\u001b[36m\u001b[1mFetching:\u001b[22m\u001b[39m [>                                        ]  0.0 %\r",
      "    \u001b[36m\u001b[1mFetching:\u001b[22m\u001b[39m [==>                                      ]  4.5 %\r",
      "    \u001b[36m\u001b[1mFetching:\u001b[22m\u001b[39m [====>                                    ]  9.1 %\r",
      "    \u001b[36m\u001b[1mFetching:\u001b[22m\u001b[39m [======>                                  ]  13.6 %\r",
      "    \u001b[36m\u001b[1mFetching:\u001b[22m\u001b[39m [========>                                ]  18.2 %\r",
      "    \u001b[36m\u001b[1mFetching:\u001b[22m\u001b[39m [==========>                              ]  22.7 %\r",
      "    \u001b[36m\u001b[1mFetching:\u001b[22m\u001b[39m [===========>                             ]  27.3 %\r",
      "    \u001b[36m\u001b[1mFetching:\u001b[22m\u001b[39m [=============>                           ]  31.8 %\r",
      "    \u001b[36m\u001b[1mFetching:\u001b[22m\u001b[39m [===============>                         ]  36.4 %\r",
      "    \u001b[36m\u001b[1mFetching:\u001b[22m\u001b[39m [=================>                       ]  40.9 %\r",
      "    \u001b[36m\u001b[1mFetching:\u001b[22m\u001b[39m [===================>                     ]  45.5 %\r",
      "    \u001b[36m\u001b[1mFetching:\u001b[22m\u001b[39m [====================>                    ]  50.0 %\r",
      "    \u001b[36m\u001b[1mFetching:\u001b[22m\u001b[39m [======================>                  ]  54.5 %\r",
      "    \u001b[36m\u001b[1mFetching:\u001b[22m\u001b[39m [========================>                ]  59.1 %\r",
      "    \u001b[36m\u001b[1mFetching:\u001b[22m\u001b[39m [==========================>              ]  63.6 %\r",
      "    \u001b[36m\u001b[1mFetching:\u001b[22m\u001b[39m [============================>            ]  68.2 %\r",
      "    \u001b[36m\u001b[1mFetching:\u001b[22m\u001b[39m [==============================>          ]  72.7 %\r",
      "    \u001b[36m\u001b[1mFetching:\u001b[22m\u001b[39m [===============================>         ]  77.3 %\r",
      "    \u001b[36m\u001b[1mFetching:\u001b[22m\u001b[39m [=================================>       ]  81.8 %\r",
      "    \u001b[36m\u001b[1mFetching:\u001b[22m\u001b[39m [===================================>     ]  86.4 %\r",
      "    \u001b[36m\u001b[1mFetching:\u001b[22m\u001b[39m [=====================================>   ]  90.9 %\r",
      "    \u001b[36m\u001b[1mFetching:\u001b[22m\u001b[39m [=======================================> ]  95.5 %\r",
      "    \u001b[36m\u001b[1mFetching:\u001b[22m\u001b[39m [========================================>]  100.0 %\r",
      "\u001b[2K\u001b[?25h"
     ]
    },
    {
     "name": "stderr",
     "output_type": "stream",
     "text": [
      "\u001b[32m\u001b[1m   Updating\u001b[22m\u001b[39m registry at `~/.julia/registries/General`\n",
      "######################################################################### 100.0%\n",
      "\u001b[32m\u001b[1m  Resolving\u001b[22m\u001b[39m package versions...\n",
      "\u001b[32m\u001b[1mUpdating\u001b[22m\u001b[39m `~/Documents/GitHub/GLOM_RV_Example/examples/Project.toml`\n",
      " \u001b[90m [3d369fb6] \u001b[39m\u001b[93m~ GLOM_RV_Example v0.1.0 `/Users/az/Documents/GitHub/GLOM_RV_Example#main` ⇒ v0.1.0 `/Users/az/Documents/GitHub/GLOM_RV_Example#main`\u001b[39m\n",
      "\u001b[32m\u001b[1mUpdating\u001b[22m\u001b[39m `~/Documents/GitHub/GLOM_RV_Example/examples/Manifest.toml`\n",
      " \u001b[90m [3d369fb6] \u001b[39m\u001b[93m~ GLOM_RV_Example v0.1.0 `/Users/az/Documents/GitHub/GLOM_RV_Example#main` ⇒ v0.1.0 `/Users/az/Documents/GitHub/GLOM_RV_Example#main`\u001b[39m\n"
     ]
    }
   ],
   "source": [
    "using Pkg\n",
    "Pkg.add(;path=\"/Users/az/Documents/GitHub/GLOM_RV_Example\")"
   ]
  },
  {
   "cell_type": "code",
   "execution_count": 2,
   "id": "filled-reflection",
   "metadata": {},
   "outputs": [
    {
     "name": "stderr",
     "output_type": "stream",
     "text": [
      "\u001b[32m\u001b[1m Activating\u001b[22m\u001b[39m environment at `~/Documents/GitHub/GLOM_RV_Example/examples/examples/Project.toml`\n"
     ]
    }
   ],
   "source": [
    "\n",
    "Pkg.activate(\"examples\")\n",
    "Pkg.instantiate()"
   ]
  },
  {
   "cell_type": "code",
   "execution_count": 3,
   "id": "patent-wisdom",
   "metadata": {},
   "outputs": [
    {
     "name": "stderr",
     "output_type": "stream",
     "text": [
      "\u001b[32m\u001b[1m  Resolving\u001b[22m\u001b[39m package versions...\n",
      "\u001b[32m\u001b[1mNo Changes\u001b[22m\u001b[39m to `~/Documents/GitHub/GLOM_RV_Example/examples/examples/Project.toml`\n",
      "\u001b[32m\u001b[1mNo Changes\u001b[22m\u001b[39m to `~/Documents/GitHub/GLOM_RV_Example/examples/examples/Manifest.toml`\n"
     ]
    }
   ],
   "source": [
    "import Pkg; Pkg.add(\"CSV\")\n",
    "\n",
    "using Statistics\n",
    "\n",
    "# for det()\n",
    "using LinearAlgebra\n",
    "\n",
    "# for importing the data from CSV\n",
    "using DataFrames\n",
    "using CSV\n"
   ]
  },
  {
   "cell_type": "code",
   "execution_count": 4,
   "id": "empty-latin",
   "metadata": {},
   "outputs": [
    {
     "data": {
      "text/plain": [
       "GPLinearODEMaker"
      ]
     },
     "execution_count": 4,
     "metadata": {},
     "output_type": "execute_result"
    }
   ],
   "source": [
    "# For GLOM\n",
    "# import Pkg; Pkg.add(\"GPLinearODEMaker\")\n",
    "import GPLinearODEMaker; GLOM = GPLinearODEMaker"
   ]
  },
  {
   "cell_type": "code",
   "execution_count": 5,
   "id": "written-conditioning",
   "metadata": {},
   "outputs": [
    {
     "data": {
      "text/plain": [
       "GLOM_RV_Example"
      ]
     },
     "execution_count": 5,
     "metadata": {},
     "output_type": "execute_result"
    }
   ],
   "source": [
    "# For this module\n",
    "using GLOM_RV_Example; GLOM_RV = GLOM_RV_Example"
   ]
  },
  {
   "cell_type": "code",
   "execution_count": 6,
   "id": "raising-brunswick",
   "metadata": {},
   "outputs": [
    {
     "name": "stderr",
     "output_type": "stream",
     "text": [
      "\u001b[32m\u001b[1m  Resolving\u001b[22m\u001b[39m package versions...\n",
      "\u001b[32m\u001b[1mNo Changes\u001b[22m\u001b[39m to `~/Documents/GitHub/GLOM_RV_Example/examples/examples/Project.toml`\n",
      "\u001b[32m\u001b[1mNo Changes\u001b[22m\u001b[39m to `~/Documents/GitHub/GLOM_RV_Example/examples/examples/Manifest.toml`\n"
     ]
    }
   ],
   "source": [
    "# For units in orbit fitting functions\n",
    "import Pkg; Pkg.add(\"Unitful\")\n",
    "using UnitfulAstro, Unitful"
   ]
  },
  {
   "cell_type": "code",
   "execution_count": 7,
   "id": "vulnerable-holmes",
   "metadata": {},
   "outputs": [
    {
     "data": {
      "text/plain": [
       "(GPLinearODEMaker.qp_kernel, 3)"
      ]
     },
     "execution_count": 7,
     "metadata": {},
     "output_type": "execute_result"
    }
   ],
   "source": [
    "\n",
    "## Problem setup\n",
    "\n",
    "# CHANGE: choose a kernel, I suggest 3 for Matern 5/2 or 4 for Quasi-periodic\n",
    "# kernel\n",
    "kernel_choice = 4\n",
    "kernel_names = [\"pp\", \"se\", \"m52\", \"qp\", \"m52_m52\", \"se_se\"]\n",
    "kernel_name = kernel_names[kernel_choice]\n",
    "kernel_function, num_kernel_hyperparameters = GLOM.include_kernel(kernel_name)"
   ]
  },
  {
   "cell_type": "code",
   "execution_count": 8,
   "id": "numerous-socket",
   "metadata": {},
   "outputs": [
    {
     "data": {
      "text/plain": [
       "44-element Array{Float64,1}:\n",
       " -269.2213392585909\n",
       " -269.2079564661908\n",
       " -269.19584069718985\n",
       " -269.19022286658947\n",
       " -269.1841134480892\n",
       " -234.42786105518826\n",
       " -234.42343912379147\n",
       " -234.41909104769002\n",
       " -193.37810670998806\n",
       " -187.37832593588973\n",
       " -185.377775409288\n",
       " -184.34866100998988\n",
       " -177.44040562718874\n",
       "    ⋮\n",
       "  234.46323363490956\n",
       "  234.4661339899103\n",
       "  234.4693607798108\n",
       "  236.49587611011157\n",
       "  236.50828411771\n",
       "  236.5199178333096\n",
       "  237.46599602491187\n",
       "  237.47044131001167\n",
       "  237.47468347791073\n",
       "  239.4646463973113\n",
       "  239.46659213601015\n",
       "  239.4703088426104"
      ]
     },
     "execution_count": 8,
     "metadata": {},
     "output_type": "execute_result"
    }
   ],
   "source": [
    "# CHANGE: the stars rotation rate which is used as the first guess for some GLOM\n",
    "# hyperparameters and starting point for priors\n",
    "star_rot_rate = 16.28  # days\n",
    "\n",
    "# importing Yale's 101501 data\n",
    "data = CSV.read(\"101501_activity.csv\", DataFrame)\n",
    "\n",
    "# CHANGE: observation times go here\n",
    "obs_xs = collect(data[!, \"Time [MJD]\"])\n",
    "# taking out the mean observation times makes the optimization easier for models\n",
    "# with periodic parameters\n",
    "GLOM_RV.remove_mean!(obs_xs)"
   ]
  },
  {
   "cell_type": "code",
   "execution_count": 9,
   "id": "liberal-least",
   "metadata": {},
   "outputs": [
    {
     "data": {
      "text/plain": [
       "44-element Array{Float64,1}:\n",
       " 0.26936\n",
       " 0.82565\n",
       " 0.25805\n",
       " 0.26118\n",
       " 0.25812\n",
       " 0.34265\n",
       " 0.3395\n",
       " 0.35351\n",
       " 0.26193\n",
       " 0.21608\n",
       " 0.21339\n",
       " 0.30804\n",
       " 0.24111\n",
       " ⋮\n",
       " 0.31966\n",
       " 0.32052\n",
       " 0.32098\n",
       " 0.43579\n",
       " 0.3187\n",
       " 0.32022\n",
       " 0.32468\n",
       " 0.33428\n",
       " 0.33553\n",
       " 0.31059\n",
       " 0.31428\n",
       " 0.31377"
      ]
     },
     "execution_count": 9,
     "metadata": {},
     "output_type": "execute_result"
    }
   ],
   "source": [
    "# CHANGE: rvs and their errors go here\n",
    "obs_rvs = data[!, \"CCF RV [m/s]\"]\n",
    "inject_ks = GLOM_RV.kep_signal(; K=50u\"m/s\", P=sqrt(2)*5u\"d\", M0=rand()*2*π, ω_or_k=rand()*2*π, e_or_h=0.1)\n",
    "obs_rvs[:] .+= ustrip.(inject_ks.(obs_xs.*u\"d\"))\n",
    "obs_rvs_err = data[!, \"CCF RV Error [m/s]\"]"
   ]
  },
  {
   "cell_type": "code",
   "execution_count": 10,
   "id": "radio-impossible",
   "metadata": {},
   "outputs": [
    {
     "data": {
      "text/plain": [
       "44-element Array{Float64,1}:\n",
       " 10.252322870488586\n",
       " 10.252322870488586\n",
       " 10.252322870488586\n",
       " 10.252322870488586\n",
       " 10.252322870488586\n",
       " 10.252322870488586\n",
       " 10.252322870488586\n",
       " 10.252322870488586\n",
       " 10.252322870488586\n",
       " 10.252322870488586\n",
       " 10.252322870488586\n",
       " 10.252322870488586\n",
       " 10.252322870488586\n",
       "  ⋮\n",
       " 10.252322870488586\n",
       " 10.252322870488586\n",
       " 10.252322870488586\n",
       " 10.252322870488586\n",
       " 10.252322870488586\n",
       " 10.252322870488586\n",
       " 10.252322870488586\n",
       " 10.252322870488586\n",
       " 10.252322870488586\n",
       " 10.252322870488586\n",
       " 10.252322870488586\n",
       " 10.252322870488586"
      ]
     },
     "execution_count": 10,
     "metadata": {},
     "output_type": "execute_result"
    }
   ],
   "source": [
    "# CHANGE: activity indicators and thier errors go here\n",
    "# you can actually have as many as you want, but obviously it will take longer\n",
    "# to fit\n",
    "obs_indicator1 = data[!, \"CCF FWHM [m/s]\"]\n",
    "obs_indicator1_err = data[!, \"CCF FWHM Err. [m/s]\"]\n",
    "obs_indicator2 = data[!, \"BIS [m/s]\"]\n",
    "obs_indicator2_err = repeat([std(obs_indicator2)], length(obs_indicator2))  # I just put something here\n"
   ]
  },
  {
   "cell_type": "code",
   "execution_count": 11,
   "id": "featured-sewing",
   "metadata": {},
   "outputs": [
    {
     "data": {
      "text/plain": [
       "44-element Array{Float64,1}:\n",
       "  -8.422655705644182\n",
       "  -4.754837654014075\n",
       "  -7.332458207144278\n",
       "  -7.434779861995274\n",
       "  -6.923625532782985\n",
       " -15.087346115699482\n",
       " -13.269319910469385\n",
       " -13.864474880708876\n",
       "  26.653436251744424\n",
       "  -9.172527194707676\n",
       "  -5.764498492557074\n",
       "  -1.7898246517967848\n",
       "  23.605814906886117\n",
       "   ⋮\n",
       "  -4.929626857433185\n",
       "  -3.8037417140264793\n",
       "  -3.9819511485553747\n",
       "  -0.5186597054477815\n",
       "   0.11694401814592226\n",
       "   0.18717887620672258\n",
       "  -7.97642490141758\n",
       "  -7.915982666037685\n",
       "  -9.576468440242685\n",
       "  -7.6600565301120795\n",
       "  -6.019500402399579\n",
       "  -6.6842541475968815"
      ]
     },
     "execution_count": 11,
     "metadata": {},
     "output_type": "execute_result"
    }
   ],
   "source": [
    "# removing means as the GP model assumes zero mean\n",
    "GLOM_RV.remove_mean!(obs_rvs)\n",
    "GLOM_RV.remove_mean!(obs_indicator1)\n",
    "GLOM_RV.remove_mean!(obs_indicator2)"
   ]
  },
  {
   "cell_type": "code",
   "execution_count": 12,
   "id": "million-framing",
   "metadata": {},
   "outputs": [
    {
     "data": {
      "text/plain": [
       "132-element Array{Float64,1}:\n",
       "  0.26936\n",
       " 41.0664677798099\n",
       " 10.252322870488586\n",
       "  0.82565\n",
       " 42.5939468151545\n",
       " 10.252322870488586\n",
       "  0.25805\n",
       " 40.951629354073\n",
       " 10.252322870488586\n",
       "  0.26118\n",
       " 40.970265403941\n",
       " 10.252322870488586\n",
       "  0.25812\n",
       "  ⋮\n",
       "  0.33553\n",
       " 40.5159586937557\n",
       " 10.252322870488586\n",
       "  0.31059\n",
       " 40.7087102555426\n",
       " 10.252322870488586\n",
       "  0.31428\n",
       " 40.5911287592448\n",
       " 10.252322870488586\n",
       "  0.31377\n",
       " 40.6561879107426\n",
       " 10.252322870488586"
      ]
     },
     "execution_count": 12,
     "metadata": {},
     "output_type": "execute_result"
    }
   ],
   "source": [
    "# CHANGE: change these lines if you add more than 2 indicators\n",
    "# this takes the data and riffles it together so it takes the form\n",
    "# [rv_1, ind1_1, ind2_1, rv_2, ind1_2, ind2_2, ...]\n",
    "n_out = 3  # number of indicators + 1\n",
    "obs_ys = collect(Iterators.flatten(zip(obs_rvs, obs_indicator1, obs_indicator2)))\n",
    "obs_noise = collect(Iterators.flatten(zip(obs_rvs_err, obs_indicator1_err, obs_indicator2_err)))\n"
   ]
  },
  {
   "cell_type": "code",
   "execution_count": 13,
   "id": "honey-affiliation",
   "metadata": {},
   "outputs": [
    {
     "data": {
      "text/plain": [
       "3"
      ]
     },
     "execution_count": 13,
     "metadata": {},
     "output_type": "execute_result"
    }
   ],
   "source": [
    "# How many differention orders we want in the GLOM model\n",
    "n_dif = 2 + 1"
   ]
  },
  {
   "cell_type": "code",
   "execution_count": 14,
   "id": "turkish-access",
   "metadata": {},
   "outputs": [],
   "source": [
    "# CHANGE: consider changing a0 (the GLOM coefficients that are used, see\n",
    "# commented lines below)\n",
    "# If all a's active:\n",
    "problem_definition = GLOM.GLO(kernel_function, num_kernel_hyperparameters, n_dif, n_out, obs_xs, copy(obs_ys); noise=copy(obs_noise), a0=[[1. 1 1];[1 1 1];[1 1 1]])\n",
    "# problem_definition = GLOM.GLO(kernel_function, num_kernel_hyperparameters, n_dif, n_out, obs_xs, copy(obs_ys); noise=copy(obs_noise), a0=[[1. 1 0];[1 0 1];[1 0 1]])\n",
    "\n",
    "# Makes the std of each output equal to 1, improves fitting stability\n",
    "# the normalizations are stored in problem_definition.normals\n",
    "GLOM.normalize_problem_definition!(problem_definition)"
   ]
  },
  {
   "cell_type": "code",
   "execution_count": 15,
   "id": "alpine-consideration",
   "metadata": {},
   "outputs": [
    {
     "data": {
      "text/plain": [
       "12-element Array{Float64,1}:\n",
       "  1.0\n",
       "  1.0\n",
       "  1.0\n",
       "  1.0\n",
       "  1.0\n",
       "  1.0\n",
       "  1.0\n",
       "  1.0\n",
       "  1.0\n",
       " 16.28\n",
       " 32.56\n",
       "  1.0"
      ]
     },
     "execution_count": 15,
     "metadata": {},
     "output_type": "execute_result"
    }
   ],
   "source": [
    "# CHANGE: Setting initial fit values\n",
    "initial_total_hyperparameters = collect(Iterators.flatten(problem_definition.a0))\n",
    "initial_hypers = [[star_rot_rate], [star_rot_rate], [star_rot_rate], [star_rot_rate, 2 * star_rot_rate, 1], [star_rot_rate, 2 * star_rot_rate, 1], [star_rot_rate, 2 * star_rot_rate, 1]]\n",
    "append!(initial_total_hyperparameters, initial_hypers[kernel_choice])"
   ]
  },
  {
   "cell_type": "code",
   "execution_count": 16,
   "id": "controversial-riverside",
   "metadata": {},
   "outputs": [
    {
     "data": {
      "text/plain": [
       "add_kick! (generic function with 1 method)"
      ]
     },
     "execution_count": 16,
     "metadata": {},
     "output_type": "execute_result"
    }
   ],
   "source": [
    "## Fitting GLOM Model\n",
    "\n",
    "# CHANGE: Setting kernel hyperparameter priors and kick function\n",
    "# kick functions help avoid saddle points\n",
    "tighten_lengthscale_priors = 3\n",
    "if kernel_name in [\"pp\", \"se\", \"m52\"]\n",
    "    kernel_hyper_priors(hps::Vector{<:Real}, d::Integer) =\n",
    "        GLOM_RV.kernel_hyper_priors_1λ(hps, d, star_rot_rate, star_rot_rate / 2 / tighten_lengthscale_priors)\n",
    "    add_kick!(hps::Vector{<:Real}) = GLOM_RV.add_kick_1λ!(hps)\n",
    "elseif kernel_name == \"qp\"\n",
    "    kernel_hyper_priors(hps::Vector{<:Real}, d::Integer) =\n",
    "        GLOM_RV.kernel_hyper_priors_qp(hps, d, [star_rot_rate, 2 * star_rot_rate, 1], [star_rot_rate / 2, star_rot_rate / 2, 0.4] ./ tighten_lengthscale_priors)\n",
    "    add_kick!(hps::Vector{<:Real}) = GLOM_RV.add_kick_qp!(hps)\n",
    "elseif kernel_name in [\"se_se\", \"m52_m52\"]\n",
    "    kernel_hyper_priors(hps::Vector{<:Real}, d::Integer) =\n",
    "        GLOM_RV.kernel_hyper_priors_2λ(hps, d, [star_rot_rate, 2 * star_rot_rate, 1], [star_rot_rate / 2, star_rot_rate / 2, 1] ./ tighten_lengthscale_priors)\n",
    "    add_kick!(hps::Vector{<:Real}) = GLOM_RV.add_kick_2λ!(hps)\n",
    "else\n",
    "    # kernel_hyper_priors(hps::Vector{<:Real}, d::Integer) = custom function\n",
    "end\n",
    "\n",
    "\n"
   ]
  },
  {
   "cell_type": "code",
   "execution_count": 17,
   "id": "committed-estimate",
   "metadata": {},
   "outputs": [
    {
     "name": "stdout",
     "output_type": "stream",
     "text": [
      "gridsearching over hp10\n",
      "starting at hp = 16.28 -> 153.15441929584313\n",
      "searching from 12.21 to 20.35\n",
      "ending at hp   = 13.838 -> 140.32325156736857\n",
      "[1.0, 1.0, 1.0, 1.0, 1.0, 1.0, 1.0, 1.0, 1.0, 13.838, 32.56, 1.0]\n",
      "\n",
      "[1.6954816435816729, 0.9184294003322562, 0.6696321930555993, 0.9599271067288851, 1.0051392301677462, 1.0177038581184514, 0.41990412421382295, 1.0565877148217702, 1.2352438909913335, 13.892706174355608, 32.554812254548594, 0.9778596124329865]\n",
      "\n",
      "Iteration:              1\n",
      "Time so far:            4.457962989807129 s\n",
      "Unnormalized posterior: 110.96703000820213\n",
      "Gradient norm:          11.077281715424334\n",
      "\n",
      "[1.697672799704701, 0.9217616311777097, 0.6362382639636471, 0.962330248281525, 0.9447696046352565, 0.8537928300660877, 0.29278956093671005, 1.0261724302698094, 1.2788853257211437, 13.977355492533043, 32.51588751711165, 1.034286122138493]\n",
      "\n",
      "Iteration:              2\n",
      "Time so far:            8.872979879379272 s\n",
      "Unnormalized posterior: 108.07083764087999\n",
      "Gradient norm:          5.567717718604322\n",
      "\n",
      "[1.53493057850448, 0.8947000342622771, 0.6899591762594083, 0.9430520492054726, 0.8410584023526042, 0.5117738646298404, 0.05922868252333366, 0.9290577633183811, 1.374903159054516, 14.059851838889921, 32.42548536087527, 1.0943905043592084]\n",
      "\n",
      "Iteration:              3\n",
      "Time so far:            13.72052001953125 s\n",
      "Unnormalized posterior: 104.5555462346219\n",
      "Gradient norm:          4.170307856873028\n",
      "\n",
      "[0.9647029158653647, 0.6868835163115588, 0.9972493225708209, 0.9983823979439352, 0.7493527925500748, 0.004833427986149941, -0.3510618117021812, 0.7370171068445991, 1.525125376998465, 14.038559334083319, 32.25329702502433, 1.1986914584481319]\n",
      "\n",
      "Iteration:              4\n",
      "Time so far:            18.58518099784851 s\n",
      "Unnormalized posterior: 99.14898862418002\n",
      "Gradient norm:          4.045617208125771\n",
      "\n",
      "[-0.6099720319567808, 0.2850714341077092, 1.3737677912092083, 1.7627409833871086, 0.46660333720855024, 0.01787301418470255, -1.0505913801227327, 0.7161336962130032, 1.4289405035279488, 13.993109560909279, 32.025909883198366, 1.1943889408657153]\n",
      "\n",
      "Iteration:              5\n",
      "Time so far:            23.49078893661499 s\n",
      "Unnormalized posterior: 96.96217053497907\n",
      "Gradient norm:          13.846534642592601\n",
      "\n",
      "[-0.20898715668625667, 0.2284683131070264, 1.295172250063917, 1.735442410322509, 0.45249080306531764, 0.031004991765942465, -1.0265036986814102, 0.7044950744580945, 1.5093583343750974, 14.1920361225107, 31.971316305245907, 1.0241578853453965]\n",
      "\n",
      "Iteration:              6\n",
      "Time so far:            27.90125799179077 s\n",
      "Unnormalized posterior: 92.24528107378801\n",
      "Gradient norm:          3.1564358616695944\n",
      "\n",
      "[-0.13009609462831578, -0.09634202276830525, 1.199918500306002, 1.6758169150503752, 0.32582786550269693, 0.059084431618781005, -0.8742129113104677, 0.07214365409910906, 1.628185780350473, 14.502715025216997, 31.401290324271645, 1.0376579066237537]\n",
      "\n",
      "Iteration:              7\n",
      "Time so far:            32.26591897010803 s\n",
      "Unnormalized posterior: 90.9225984130035\n",
      "Gradient norm:          2.417255863555795\n",
      "\n",
      "[-0.18332239197635178, -0.02979536796884094, 1.1433520402800983, 1.1937094006757343, 0.4242186457714244, 0.3263590356254007, -2.6019075288654223, -0.21216630238831874, 1.9899913444780009, 15.191523087664446, 31.439048075573027, 1.0963803112494248]\n",
      "\n",
      "Iteration:              8\n",
      "Time so far:            32.85849404335022 s\n",
      "Unnormalized posterior: 90.9225984130035\n",
      "Gradient norm:          2.417255863555795\n",
      "\n",
      "[-0.15228312432149232, -0.09710418066172508, 1.1892658556679438, 1.60386778226104, 0.3445652268494672, 0.12532054794130362, -1.2674926266114848, -0.04786567707825948, 1.7168478477855382, 14.733480766979936, 31.30952125768136, 1.067190279929808]\n",
      "\n",
      "Iteration:              9\n",
      "Time so far:            37.60601806640625 s\n",
      "Unnormalized posterior: 90.5752450176904\n",
      "Gradient norm:          0.42878085274908884\n",
      "\n",
      "[-0.16151663266963795, -0.10080409205503632, 1.0766930343240002, 1.1378233991372184, 0.3822912284353511, 0.3660869091326525, -2.0617429634088653, -0.15544400310699558, 1.8328703729545683, 14.965028489969951, 31.32665607758321, 1.0965753747954554]\n",
      "\n",
      "Iteration:              10\n",
      "Time so far:            42.686293840408325 s\n",
      "Unnormalized posterior: 89.93701426043472\n",
      "Gradient norm:          7.421741669252128\n",
      "\n",
      "[-0.2683377634447765, -0.12425498390200142, 0.9985512017121894, 0.4898981901731919, 0.4391227659214377, 0.7411864858186075, -2.6627513619007335, -0.3117646928715795, 1.691649780836133, 14.91677433273146, 31.345046025115238, 0.9968788322257579]\n",
      "\n",
      "Iteration:              11\n",
      "Time so far:            47.33470892906189 s\n",
      "Unnormalized posterior: 88.60398205665932\n",
      "Gradient norm:          2.7485722393013674\n",
      "\n",
      "[-0.3542492886213924, -0.23812911747590187, 0.9170510632043467, 0.19889623046781219, 0.5146823389697786, 0.9115037376341335, -3.1051679847510947, -0.573859917597245, 1.4044510186437065, 14.959557412742301, 31.402778567368397, 0.9316535064137683]\n",
      "\n",
      "Iteration:              12\n",
      "Time so far:            52.5511908531189 s\n",
      "Unnormalized posterior: 88.33509922421014\n",
      "Gradient norm:          0.640717867833871\n",
      "\n",
      "[-0.3584972492604038, -0.2527112176824865, 0.9188824095941197, 0.26077185867033725, 0.5315359837876291, 0.958686691888816, -3.096326045366742, -0.5768100009171048, 1.4104453206014997, 14.958446082734786, 31.39630765938545, 0.9374124566632458]\n",
      "\n",
      "Iteration:              13\n",
      "Time so far:            57.47438192367554 s\n",
      "Unnormalized posterior: 88.3230018681794\n",
      "Gradient norm:          0.02630821853864518\n",
      "\n",
      "[-0.3578824968413988, -0.2511017889691261, 0.9201213227770851, 0.2587095323139426, 0.5292939004624345, 0.9528677097207888, -3.0950178857120725, -0.5764791427907533, 1.4109331243674528, 14.957833108567987, 31.3960353000902, 0.9374975582666998]\n",
      "\n",
      "Iteration:              14\n",
      "Time so far:            62.54905700683594 s\n",
      "Unnormalized posterior: 88.32296608855567\n",
      "Gradient norm:          4.79862469995318e-5\n",
      "\n",
      "[-0.3578817166613505, -0.2510974627958365, 0.9201226529872824, 0.25869711647238947, 0.5292853185858168, 0.952854089041436, -3.0950199904743787, -0.5764790316368275, 1.4109296480423346, 14.957831267767002, 31.396034700930613, 0.9374968285456486]\n",
      "\n",
      "Iteration:              15\n",
      "Time so far:            67.35668802261353 s\n",
      "Unnormalized posterior: 88.32296608819752\n",
      "Gradient norm:          5.743032716054586e-10\n",
      "\n",
      "gridsearching over hp10\n",
      "starting at hp = 14.957831267767002 -> 88.32296608819752\n",
      "searching from 11.21837345082525 to 18.697289084708753\n",
      "ending at hp   = 14.957831267767002 -> 88.32296608819752\n",
      "1.3820192253680925e9\n"
     ]
    },
    {
     "data": {
      "text/plain": [
       "GPLinearODEMaker.nlogL_matrix_workspace{Float64}([-0.3578817166613505, -0.2510974627958365, 0.9201226529872824, 0.25869711647238947, 0.5292853185858168, 0.952854089041436, -3.0950199904743787, -0.5764790316368275, 1.4109296480423346, 14.957831267767002, 31.396034700930613, 0.9374968285456486], Cholesky{Float64,Array{Float64,2}}([0.8689754922698235 0.15762081158881075 … -5.467120148271334e-59 -4.726795870398774e-58; 0.13696862234235593 1.6730292530464412 … 2.4818922889316676e-59 -1.597331038360523e-60; … ; -4.750793422142354e-59 3.2905464874690034e-59 … 1.6389842407309554 0.0010035735607718612; -4.107469768338744e-58 -7.717652168466559e-59 … -0.09592886567510009 1.0787173022634806], 'U', 0), [-0.3578817166613505, -0.2510974627958365, 0.9201226529872824, 0.25869711647238947, 0.5292853185858168, 0.952854089041436, -3.0950199904743787, -0.5764790316368275, 1.4109296480423346, 14.957831267767002, 31.396034700930613, 0.9374968285456486], [[5.255589403297679 -2.83781383432469 … 3.146708599813366e-13 -2.9249818347149156e-13; -0.044435786862660885 0.004542083340883871 … -1.4331105943667029e-15 3.14873154148592e-15; … ; -1.2025396249634526e-16 -8.073267441150968e-17 … -0.010529357974696651 0.0005078015067479409; 1.226840263191007e-15 2.2985131419968745e-15 … -0.24790577114332601 0.5660125814174394], [0.7704899929892304 4.973767281157096 … 1.1318964967211484e-13 1.962511307363233e-13; 0.04197344988956016 -0.09020860122243315 … -2.6056764438908713e-16 1.8515635623823163e-16; … ; 2.5897887084808614e-16 2.0686307162877024e-16 … -0.06567116007212244 0.25602243003087977; 1.6022878946707196e-15 1.4229841092679076e-15 … 0.13143022578465907 -0.01743919625837576], [1.2181381819580546 -1.2990813539420685 … 5.083820031630418e-13 -9.38910629208863e-13; 0.004779754907942622 -0.005582908922547626 … 9.726870378443362e-17 -1.6961001003604543e-16; … ; 3.5496303978100994e-16 -5.152303781231898e-17 … -0.022254355787540838 0.02596678387256895; 8.927822992120733e-15 7.445084778523644e-17 … -0.03225838486915655 0.4570192052989078], [1.9483933890644984 0.7444917159878222 … 4.4858065046353716e-13 2.4627742327787016e-13; 0.028679641758999293 -0.0034852110338483445 … 2.1784549178958197e-16 7.761400156973424e-16; … ; 3.8356548005148295e-18 -7.553892039898662e-17 … -0.00247391342812938 -3.121818854884279e-5; -4.379932182399135e-16 -1.0905970642375679e-15 … 0.012698793683775087 0.11431378679088837], [0.2651710023470919 -5.057720355504651 … -1.3858268526889036e-13 -6.529585264517079e-14; 0.013981116079976852 0.046089639470003226 … -2.761198489092669e-16 -3.6946565491945275e-17; … ; -6.92365298725725e-17 -1.8568090533000278e-16 … 0.03656936228508486 0.05433037464076816; -6.876199189368157e-16 -2.239861372084933e-15 … 0.05021658760176604 -0.006666188636040188], [0.24125843811261286 0.682348452951012 … 5.6046785952481994e-14 -8.14261474400762e-14; 0.001131975083236678 0.002902190477776036 … 1.2131855816588437e-16 9.972860799550687e-17; … ; -3.317892917414389e-16 2.5568406081670573e-17 … -0.0033713688716548013 0.013190333730249693; -4.560961602505136e-15 6.657786292400027e-16 … 0.045155140992218346 0.10178913235698143], [-1.2286049121555993 1.5350818316400718 … 1.611572178146383e-13 -2.5393958968099047e-13; 0.02030930530265974 0.0035874184747481876 … 2.344732136233155e-16 -1.049602026270075e-17; … ; -4.649709776019832e-17 2.302756378206014e-17 … 0.004572465627241765 0.0013332845890583719; 4.631659676992449e-16 2.9254905997033524e-16 … 0.01902004732790854 0.018628487571041033], [-1.745590890526878 -1.5880139651006895 … 1.1112924832244074e-14 -6.844075675667955e-15; -0.08643518367018208 -0.0006843313609898835 … 7.40178213165466e-17 -3.816025092555013e-17; … ; -6.532145699668854e-17 -4.4309753573660086e-17 … -0.005863060939586006 -0.000712890579230319; -6.973291717910457e-16 -5.050994094135043e-16 … -0.011421645782714126 -1.6974384940880185e-6], [-2.1291890174018038 -0.16331751670528513 … -1.11537620692182e-13 -1.2349077901879506e-13; -0.009036657396416521 -0.0006988286563360647 … -1.342008494456167e-16 -7.472234964895958e-17; … ; -9.809403061561288e-17 -4.239240915926875e-17 … 0.0029362164945447604 0.002854166745335962; -1.0839839402877372e-15 -3.218298871431865e-16 … -0.03106451602346155 -0.004582058468629773], [0.38451491020946943 0.9781328540622066 … -1.8383886291428976e-12 1.2314704080071637e-12; 0.0017415104356065865 0.00012887200760615926 … -2.3304530458541767e-15 1.9441714087362018e-15; … ; 7.760436591612935e-15 -5.1229260342645186e-17 … -9.606127583466132e-5 -0.0018014430558345807; 1.0267929813048403e-14 -7.774674961906794e-15 … -0.0019280741679790652 -0.008170553057948492], [0.007533090554971795 0.005479981652249832 … -3.0518785265157906e-13 4.370390453776748e-13; 3.0261757754240757e-5 1.759035919209633e-6 … -3.7584643856095543e-16 5.296639757215916e-16; … ; 3.1817832988934306e-16 4.099573903281649e-17 … -7.190889215869598e-7 -2.5834623263297853e-6; 2.2865403035733922e-15 3.983513547695812e-17 … -5.539076008944114e-6 -4.3922989745292645e-5], [3.7796283526553616 -12.251085984162966 … -3.099497206686977e-13 5.885546746603134e-13; -0.033785558472715256 0.0009517209830393282 … -4.684582336778992e-16 1.7568669992899524e-15; … ; -1.452064179619984e-15 -5.205935271869551e-16 … 0.0024090470493360614 0.022321716337517963; -2.4257687281157334e-14 -7.935425576468076e-15 … 0.030903888914914242 0.15268680081828134]])"
      ]
     },
     "execution_count": 17,
     "metadata": {},
     "output_type": "execute_result"
    }
   ],
   "source": [
    "fit1_total_hyperparameters, result = GLOM_RV.fit_GLOM(problem_definition, initial_total_hyperparameters, kernel_hyper_priors, add_kick!)\n",
    "# fit_GLOM returns a vector of num_kernel_hyperparameters gp hyperparameters\n",
    "# followed by the GLOM coefficients and the Optim result object\n",
    "workspace = GLOM.nlogL_matrix_workspace(problem_definition, fit1_total_hyperparameters)"
   ]
  },
  {
   "cell_type": "code",
   "execution_count": 18,
   "id": "consecutive-dutch",
   "metadata": {
    "scrolled": true
   },
   "outputs": [
    {
     "name": "stdout",
     "output_type": "stream",
     "text": [
      "Array dimensions do not match. The matrix can't be symmetric\n"
     ]
    },
    {
     "data": {
      "text/plain": [
       "3-element Array{Array{Float64,1},1}:\n",
       " [31.75034859422527, 31.946487301185424, 32.118832334897995, 32.197045569978, 32.28087254971121, 15.43241114095533, 15.481897395505646, 15.530376152551545, -42.46615635503414, -47.36284568628137  …  42.036836406252206, -47.96534506042284, -48.07683815758778, -48.17857007812205, -48.12108889782577, -48.07077618214829, -48.02214725860125, 19.928624243254184, 19.967496797284298, 20.041199439712926]\n",
       " [5.218331197623229, 5.205949091759689, 5.1940440291382535, 5.188300070929596, 5.1818927512698245, 5.7473421761178205, 5.753122464388962, 5.758767053897681, -4.047156609588896, -8.102173818905307  …  -8.396779466840211, -11.438059557163143, -11.359727605649578, -11.285909349863868, -4.558370665117524, -4.524005455225578, -4.491184719254785, 7.6361447550996, 7.6366049136350815, 7.637399790372992]\n",
       " [-6.209573632333951, -6.264053078959602, -6.313257203960036, -6.336031433210499, -6.3607677001145495, -9.842704407262643, -9.850634061669167, -9.858430469913921, 15.102790047462351, -1.8576972903560893  …  -2.0949593026413376, -4.034871244085728, -4.031222314122841, -4.027451272139683, -2.6364891658223706, -2.6272462623462465, -2.6184377208822984, -3.7260507432767698, -3.7285637255231703, -3.733328910451144]"
      ]
     },
     "execution_count": 18,
     "metadata": {},
     "output_type": "execute_result"
    }
   ],
   "source": [
    "## Plotting initial results\n",
    "\n",
    "plot_xs = collect(LinRange(obs_xs[1]-10, obs_xs[end]+10, 300))\n",
    "post, post_err, post_obs = GLOM_RV.GLOM_posteriors(problem_definition, plot_xs, fit1_total_hyperparameters)\n",
    "GLOM_rvs_at_plot_xs, GLOM_ind1_at_plot_xs, GLOM_ind2_at_plot_xs = post\n",
    "GLOM_rvs_err_at_plot_xs, GLOM_ind1_err_at_plot_xs, GLOM_ind2_err_at_plot_xs = post_err\n",
    "GLOM_rvs_at_obs_xs, GLOM_ind1_at_obs_xs, GLOM_ind2_at_obs_xs = post_obs"
   ]
  },
  {
   "cell_type": "code",
   "execution_count": 19,
   "id": "mobile-stanley",
   "metadata": {},
   "outputs": [
    {
     "data": {
      "text/plain": [
       "31.550019949186208"
      ]
     },
     "execution_count": 19,
     "metadata": {},
     "output_type": "execute_result"
    }
   ],
   "source": [
    "obs_rvs[1]"
   ]
  },
  {
   "cell_type": "code",
   "execution_count": null,
   "id": "personal-improvement",
   "metadata": {},
   "outputs": [],
   "source": []
  }
 ],
 "metadata": {
  "kernelspec": {
   "display_name": "Julia 1.5.1",
   "language": "julia",
   "name": "julia-1.5"
  },
  "language_info": {
   "file_extension": ".jl",
   "mimetype": "application/julia",
   "name": "julia",
   "version": "1.5.1"
  }
 },
 "nbformat": 4,
 "nbformat_minor": 5
}
